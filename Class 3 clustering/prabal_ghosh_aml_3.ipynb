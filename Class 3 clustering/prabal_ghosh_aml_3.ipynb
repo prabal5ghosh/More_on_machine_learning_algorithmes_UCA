{
 "cells": [
  {
   "cell_type": "code",
   "execution_count": null,
   "id": "86e2a10c-dcb2-4ccd-ad82-24fdadd446ee",
   "metadata": {},
   "outputs": [],
   "source": [
    "# Download arxiv documents"
   ]
  },
  {
   "cell_type": "code",
   "execution_count": 1,
   "id": "4d34e67e-9ba8-4a77-af4d-9350e27d1bb7",
   "metadata": {
    "tags": []
   },
   "outputs": [],
   "source": [
    "import requests\n",
    "import xml.etree.ElementTree as ET\n",
    "import pandas as pd\n",
    "\n",
    "def get_arxiv(topic, number):\n",
    "  url = \"http://export.arxiv.org/api/query?search_query=all:%s&max_results=%d\" % (topic, number)\n",
    "  response = requests.get(url)\n",
    "\n",
    "  if response.status_code == 200:\n",
    "      content = response.content\n",
    "      # Parse the XML content\n",
    "      root = ET.fromstring(content)\n",
    "      # Lists to store extracted data\n",
    "      titles = []\n",
    "      summaries = []\n",
    "      published_dates = []\n",
    "      authors_list = []\n",
    "      categories_list = []\n",
    "\n",
    "      # Looping to extract information\n",
    "      for entry in root.findall('{http://www.w3.org/2005/Atom}entry'):\n",
    "          title = entry.find('{http://www.w3.org/2005/Atom}title').text\n",
    "          summary = entry.find('{http://www.w3.org/2005/Atom}summary').text\n",
    "          \n",
    "          published = entry.find('{http://www.w3.org/2005/Atom}published').text\n",
    "          authors = [author.find('{http://www.w3.org/2005/Atom}name').text for author in entry.findall('{http://www.w3.org/2005/Atom}author')]\n",
    "          categories = [category.attrib['term'] for category in entry.findall('{http://www.w3.org/2005/Atom}category')]\n",
    "\n",
    "          titles += [title]\n",
    "          summaries += [summary]\n",
    "          published_dates += [published]\n",
    "          authors_list += [authors]\n",
    "          categories_list += [categories]\n",
    "\n",
    "      data = { 'Title': titles, 'Summary': summaries, 'Published Date': published_dates, 'Categories': categories_list, 'Authors': authors_list    }\n",
    "      df = pd.DataFrame(data)\n",
    "      return df\n",
    "  else:\n",
    "      print(\"Error: Unable to fetch content from the URL.\")"
   ]
  },
  {
   "cell_type": "code",
   "execution_count": 2,
   "id": "eb9a6ec0-0cd2-45dd-aa5e-6c8a3c80f44d",
   "metadata": {
    "tags": []
   },
   "outputs": [
    {
     "name": "stdout",
     "output_type": "stream",
     "text": [
      "Dataset size: 1000\n"
     ]
    },
    {
     "data": {
      "text/html": [
       "<div>\n",
       "<style scoped>\n",
       "    .dataframe tbody tr th:only-of-type {\n",
       "        vertical-align: middle;\n",
       "    }\n",
       "\n",
       "    .dataframe tbody tr th {\n",
       "        vertical-align: top;\n",
       "    }\n",
       "\n",
       "    .dataframe thead th {\n",
       "        text-align: right;\n",
       "    }\n",
       "</style>\n",
       "<table border=\"1\" class=\"dataframe\">\n",
       "  <thead>\n",
       "    <tr style=\"text-align: right;\">\n",
       "      <th></th>\n",
       "      <th>Title</th>\n",
       "      <th>Summary</th>\n",
       "      <th>Published Date</th>\n",
       "      <th>Categories</th>\n",
       "      <th>Authors</th>\n",
       "    </tr>\n",
       "  </thead>\n",
       "  <tbody>\n",
       "    <tr>\n",
       "      <th>0</th>\n",
       "      <td>Astroparticle physics - A Personal Outlook</td>\n",
       "      <td>At the request of the organizers, this talk ...</td>\n",
       "      <td>1996-02-15T17:41:36Z</td>\n",
       "      <td>[astro-ph]</td>\n",
       "      <td>[John Ellis]</td>\n",
       "    </tr>\n",
       "    <tr>\n",
       "      <th>1</th>\n",
       "      <td>Une liste de problèmes</td>\n",
       "      <td>This is a structured compilation of some of ...</td>\n",
       "      <td>2022-12-12T09:34:12Z</td>\n",
       "      <td>[math.AG, 14-01 14-02 14D10 14E08 14G12]</td>\n",
       "      <td>[Jean-Louis Colliot-Thélène]</td>\n",
       "    </tr>\n",
       "    <tr>\n",
       "      <th>2</th>\n",
       "      <td>Noetherianity up to symmetry</td>\n",
       "      <td>These lecture notes for the 2013 CIME/CIRM s...</td>\n",
       "      <td>2013-10-07T09:00:53Z</td>\n",
       "      <td>[math.AG]</td>\n",
       "      <td>[Jan Draisma]</td>\n",
       "    </tr>\n",
       "    <tr>\n",
       "      <th>3</th>\n",
       "      <td>Multi-boson correlations using wave-packets II</td>\n",
       "      <td>We investigate the analytically solvable pio...</td>\n",
       "      <td>2007-09-24T21:23:17Z</td>\n",
       "      <td>[nucl-th]</td>\n",
       "      <td>[M. I. Nagy, T. Csorgo]</td>\n",
       "    </tr>\n",
       "    <tr>\n",
       "      <th>4</th>\n",
       "      <td>Topological quantum field theories</td>\n",
       "      <td>Following my plenary lecture on ICMP2000 I r...</td>\n",
       "      <td>2000-11-29T00:29:54Z</td>\n",
       "      <td>[hep-th]</td>\n",
       "      <td>[Albert Schwarz]</td>\n",
       "    </tr>\n",
       "  </tbody>\n",
       "</table>\n",
       "</div>"
      ],
      "text/plain": [
       "                                            Title  \\\n",
       "0      Astroparticle physics - A Personal Outlook   \n",
       "1                          Une liste de problèmes   \n",
       "2                    Noetherianity up to symmetry   \n",
       "3  Multi-boson correlations using wave-packets II   \n",
       "4              Topological quantum field theories   \n",
       "\n",
       "                                             Summary        Published Date  \\\n",
       "0    At the request of the organizers, this talk ...  1996-02-15T17:41:36Z   \n",
       "1    This is a structured compilation of some of ...  2022-12-12T09:34:12Z   \n",
       "2    These lecture notes for the 2013 CIME/CIRM s...  2013-10-07T09:00:53Z   \n",
       "3    We investigate the analytically solvable pio...  2007-09-24T21:23:17Z   \n",
       "4    Following my plenary lecture on ICMP2000 I r...  2000-11-29T00:29:54Z   \n",
       "\n",
       "                                 Categories                       Authors  \n",
       "0                                [astro-ph]                  [John Ellis]  \n",
       "1  [math.AG, 14-01 14-02 14D10 14E08 14G12]  [Jean-Louis Colliot-Thélène]  \n",
       "2                                 [math.AG]                 [Jan Draisma]  \n",
       "3                                 [nucl-th]       [M. I. Nagy, T. Csorgo]  \n",
       "4                                  [hep-th]              [Albert Schwarz]  "
      ]
     },
     "execution_count": 2,
     "metadata": {},
     "output_type": "execute_result"
    }
   ],
   "source": [
    "data = get_arxiv(\"my favourite topic\", 1000)\n",
    "print(\"Dataset size:\", len(data))\n",
    "data.head()"
   ]
  },
  {
   "cell_type": "code",
   "execution_count": 3,
   "id": "4e06d557-9c6b-4e57-9181-f45967845bf4",
   "metadata": {
    "tags": []
   },
   "outputs": [],
   "source": [
    "import pandas as pd\n",
    "import numpy as np\n",
    "from nltk.corpus import stopwords\n",
    "from nltk.tokenize import word_tokenize\n",
    "from nltk.stem import WordNetLemmatizer\n",
    "from sklearn.pipeline import make_pipeline\n",
    "import nltk\n",
    "import matplotlib.pyplot as plt\n",
    "from sklearn.metrics import confusion_matrix, f1_score, accuracy_score, classification_report\n",
    "from sklearn.pipeline import Pipeline\n",
    "from sklearn.feature_extraction.text import TfidfVectorizer \n",
    "from sklearn.linear_model import LogisticRegression\n",
    "from mlxtend.feature_selection import ColumnSelector\n",
    "from sklearn.metrics import classification_report, confusion_matrix, ConfusionMatrixDisplay"
   ]
  },
  {
   "cell_type": "code",
   "execution_count": 7,
   "id": "eaa33905-73bb-4cf1-afee-52cd89b4fdeb",
   "metadata": {
    "tags": []
   },
   "outputs": [],
   "source": [
    "# pip install spacy"
   ]
  },
  {
   "cell_type": "code",
   "execution_count": 8,
   "id": "97a27929-2988-4855-847e-abbfe320c20a",
   "metadata": {
    "tags": []
   },
   "outputs": [],
   "source": [
    "import pandas as pd\n",
    "import spacy\n",
    "from spacy.lang.en.stop_words import STOP_WORDS\n"
   ]
  },
  {
   "cell_type": "code",
   "execution_count": 9,
   "id": "ee8df96a-5c74-431d-83dd-7c8dcbfb0aa8",
   "metadata": {
    "tags": []
   },
   "outputs": [],
   "source": [
    "# train = data[\"Summary\"]"
   ]
  },
  {
   "cell_type": "code",
   "execution_count": 17,
   "id": "17e6baae-c9ce-4f19-b249-ce4d66906a43",
   "metadata": {
    "tags": []
   },
   "outputs": [],
   "source": [
    "# train.head()"
   ]
  },
  {
   "cell_type": "code",
   "execution_count": 13,
   "id": "dcaac4b8-cf39-48ed-974c-12e0a15ba9f9",
   "metadata": {
    "tags": []
   },
   "outputs": [],
   "source": [
    "# !python -m spacy download en_core_web_sm\n"
   ]
  },
  {
   "cell_type": "code",
   "execution_count": 14,
   "id": "4e3fcbf8-761d-48b5-89ba-f43a5e589620",
   "metadata": {
    "tags": []
   },
   "outputs": [],
   "source": [
    "nlp = spacy.load(\"en_core_web_sm\")\n"
   ]
  },
  {
   "cell_type": "code",
   "execution_count": 19,
   "id": "fb6d41d0-d19d-4f5b-a3ba-691af29bd804",
   "metadata": {
    "tags": []
   },
   "outputs": [],
   "source": [
    "# Function to preprocess text\n",
    "def preprocess_text(text):\n",
    "    # Apply spaCy NLP pipeline\n",
    "    doc = nlp(text)\n",
    "    \n",
    "    # Extract lemmatized tokens, remove stop words, and keep only nouns, proper nouns, and adjectives\n",
    "    lemmatized_tokens = [token.lemma_.lower() for token in doc if token.pos_ in [\"PROPN\", \"NOUN\", \"ADJ\"] and token.lemma_.lower() not in STOP_WORDS]\n",
    "    \n",
    "    # Join the tokens into a string\n",
    "    processed_text = ' '.join(lemmatized_tokens)\n",
    "    \n",
    "    return processed_text\n",
    "\n",
    "# Apply the preprocess_text function to the 'text' column\n",
    "data['processed_text'] = data['Summary'].apply(preprocess_text)\n"
   ]
  },
  {
   "cell_type": "code",
   "execution_count": 21,
   "id": "c910894b-3206-4368-af04-01b7dbcb16b2",
   "metadata": {
    "tags": []
   },
   "outputs": [
    {
     "data": {
      "text/html": [
       "<div>\n",
       "<style scoped>\n",
       "    .dataframe tbody tr th:only-of-type {\n",
       "        vertical-align: middle;\n",
       "    }\n",
       "\n",
       "    .dataframe tbody tr th {\n",
       "        vertical-align: top;\n",
       "    }\n",
       "\n",
       "    .dataframe thead th {\n",
       "        text-align: right;\n",
       "    }\n",
       "</style>\n",
       "<table border=\"1\" class=\"dataframe\">\n",
       "  <thead>\n",
       "    <tr style=\"text-align: right;\">\n",
       "      <th></th>\n",
       "      <th>Summary</th>\n",
       "      <th>processed_text</th>\n",
       "    </tr>\n",
       "  </thead>\n",
       "  <tbody>\n",
       "    <tr>\n",
       "      <th>0</th>\n",
       "      <td>At the request of the organizers, this talk ...</td>\n",
       "      <td>request organizer talk survey hot topic meetin...</td>\n",
       "    </tr>\n",
       "    <tr>\n",
       "      <th>1</th>\n",
       "      <td>This is a structured compilation of some of ...</td>\n",
       "      <td>structured compilation favourite open problem</td>\n",
       "    </tr>\n",
       "    <tr>\n",
       "      <th>2</th>\n",
       "      <td>These lecture notes for the 2013 CIME/CIRM s...</td>\n",
       "      <td>lecture note cime cirm summer school combinato...</td>\n",
       "    </tr>\n",
       "    <tr>\n",
       "      <th>3</th>\n",
       "      <td>We investigate the analytically solvable pio...</td>\n",
       "      <td>solvable pion laser model generalization arbit...</td>\n",
       "    </tr>\n",
       "    <tr>\n",
       "      <th>4</th>\n",
       "      <td>Following my plenary lecture on ICMP2000 I r...</td>\n",
       "      <td>plenary lecture icmp2000 result topic topologi...</td>\n",
       "    </tr>\n",
       "    <tr>\n",
       "      <th>...</th>\n",
       "      <td>...</td>\n",
       "      <td>...</td>\n",
       "    </tr>\n",
       "    <tr>\n",
       "      <th>995</th>\n",
       "      <td>Due to some results by John P. D Angelo and ...</td>\n",
       "      <td>result john p. d angelo dusty grundmeier cr- m...</td>\n",
       "    </tr>\n",
       "    <tr>\n",
       "      <th>996</th>\n",
       "      <td>We study the shifted convolution sum of the ...</td>\n",
       "      <td>convolution sum divisor function d_3 ramanujan...</td>\n",
       "    </tr>\n",
       "    <tr>\n",
       "      <th>997</th>\n",
       "      <td>This is the introductory part of my Ph.D the...</td>\n",
       "      <td>introductory ph . d thesis faculty science tec...</td>\n",
       "    </tr>\n",
       "    <tr>\n",
       "      <th>998</th>\n",
       "      <td>This is a draft of my brief note on the earl...</td>\n",
       "      <td>draft brief note early history n\\bar{n}$ oscil...</td>\n",
       "    </tr>\n",
       "    <tr>\n",
       "      <th>999</th>\n",
       "      <td>This letter is my comment about the opinion ...</td>\n",
       "      <td>letter comment opinion paper transdisciplinary...</td>\n",
       "    </tr>\n",
       "  </tbody>\n",
       "</table>\n",
       "<p>1000 rows × 2 columns</p>\n",
       "</div>"
      ],
      "text/plain": [
       "                                               Summary  \\\n",
       "0      At the request of the organizers, this talk ...   \n",
       "1      This is a structured compilation of some of ...   \n",
       "2      These lecture notes for the 2013 CIME/CIRM s...   \n",
       "3      We investigate the analytically solvable pio...   \n",
       "4      Following my plenary lecture on ICMP2000 I r...   \n",
       "..                                                 ...   \n",
       "995    Due to some results by John P. D Angelo and ...   \n",
       "996    We study the shifted convolution sum of the ...   \n",
       "997    This is the introductory part of my Ph.D the...   \n",
       "998    This is a draft of my brief note on the earl...   \n",
       "999    This letter is my comment about the opinion ...   \n",
       "\n",
       "                                        processed_text  \n",
       "0    request organizer talk survey hot topic meetin...  \n",
       "1        structured compilation favourite open problem  \n",
       "2    lecture note cime cirm summer school combinato...  \n",
       "3    solvable pion laser model generalization arbit...  \n",
       "4    plenary lecture icmp2000 result topic topologi...  \n",
       "..                                                 ...  \n",
       "995  result john p. d angelo dusty grundmeier cr- m...  \n",
       "996  convolution sum divisor function d_3 ramanujan...  \n",
       "997  introductory ph . d thesis faculty science tec...  \n",
       "998  draft brief note early history n\\bar{n}$ oscil...  \n",
       "999  letter comment opinion paper transdisciplinary...  \n",
       "\n",
       "[1000 rows x 2 columns]"
      ]
     },
     "execution_count": 21,
     "metadata": {},
     "output_type": "execute_result"
    }
   ],
   "source": [
    " data.loc[:, [\"Summary\", \"processed_text\"]]"
   ]
  },
  {
   "cell_type": "code",
   "execution_count": null,
   "id": "9da3d635-0107-405f-9026-048622d9d4a5",
   "metadata": {},
   "outputs": [],
   "source": []
  }
 ],
 "metadata": {
  "kernelspec": {
   "display_name": "Python 3 (ipykernel)",
   "language": "python",
   "name": "python3"
  },
  "language_info": {
   "codemirror_mode": {
    "name": "ipython",
    "version": 3
   },
   "file_extension": ".py",
   "mimetype": "text/x-python",
   "name": "python",
   "nbconvert_exporter": "python",
   "pygments_lexer": "ipython3",
   "version": "3.11.5"
  }
 },
 "nbformat": 4,
 "nbformat_minor": 5
}
