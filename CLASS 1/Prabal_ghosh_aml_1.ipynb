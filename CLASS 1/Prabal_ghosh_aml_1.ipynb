{
 "cells": [
  {
   "cell_type": "markdown",
   "id": "e26cd40f-3374-405d-a3ff-6e14d3690b4f",
   "metadata": {
    "tags": []
   },
   "source": [
    "# Prabal Ghosh\n",
    "## Assignment - ADVANCED MORE ON MACHINE LEARNING ALGORITHMS"
   ]
  },
  {
   "cell_type": "code",
   "execution_count": 1,
   "id": "324517ea-9ba1-4729-813e-dfae9db96cb4",
   "metadata": {
    "tags": []
   },
   "outputs": [],
   "source": [
    "import pandas as pd\n",
    "import numpy as np\n",
    "from nltk.corpus import stopwords\n",
    "from nltk.tokenize import word_tokenize\n",
    "from nltk.stem import WordNetLemmatizer\n",
    "from sklearn.pipeline import make_pipeline\n",
    "import nltk\n",
    "import matplotlib.pyplot as plt\n",
    "from sklearn.metrics import confusion_matrix, f1_score, accuracy_score, classification_report\n",
    "from sklearn.pipeline import Pipeline\n",
    "from sklearn.feature_extraction.text import TfidfVectorizer \n",
    "from sklearn.linear_model import LogisticRegression\n",
    "from mlxtend.feature_selection import ColumnSelector\n",
    "from sklearn.metrics import classification_report, confusion_matrix, ConfusionMatrixDisplay\n"
   ]
  },
  {
   "cell_type": "code",
   "execution_count": 2,
   "id": "34fcfcdf-fa2a-41fd-b332-d8c421451b71",
   "metadata": {
    "tags": []
   },
   "outputs": [],
   "source": [
    "# nltk.download('stopwords')\n",
    "# nltk.download('punkt')\n",
    "# nltk.download('wordnet')"
   ]
  },
  {
   "cell_type": "code",
   "execution_count": 3,
   "id": "6b4458a4-d8a2-43ff-bf5e-44bd1aa7b547",
   "metadata": {},
   "outputs": [],
   "source": [
    "# ! pip install emoji"
   ]
  },
  {
   "cell_type": "code",
   "execution_count": 4,
   "id": "21d91ef4-0985-463a-b899-271d635eafc3",
   "metadata": {},
   "outputs": [],
   "source": [
    "# pip install mlxtend\n"
   ]
  },
  {
   "cell_type": "code",
   "execution_count": 5,
   "id": "2a3069d8-c4ed-4083-9022-124952c540b3",
   "metadata": {
    "tags": []
   },
   "outputs": [],
   "source": [
    "import emoji\n",
    "import string\n",
    "# from spellchecker import SpellChecker\n",
    "# from textblob import TextBlob\n",
    "from nltk.stem import WordNetLemmatizer\n",
    "\n"
   ]
  },
  {
   "cell_type": "markdown",
   "id": "45993958-9245-4f7a-9d98-1b7e9b60f545",
   "metadata": {
    "tags": []
   },
   "source": [
    "## Dataset"
   ]
  },
  {
   "cell_type": "code",
   "execution_count": 6,
   "id": "91aa63b0-b55e-45c4-a9f4-5fc155df3437",
   "metadata": {
    "tags": []
   },
   "outputs": [],
   "source": [
    "TRAIN = pd.read_csv(\"http://www.i3s.unice.fr/~riveill/dataset/Amazon_Unlocked_Mobile/train.csv.gz\")"
   ]
  },
  {
   "cell_type": "code",
   "execution_count": 7,
   "id": "7a5e3499-9eaa-4b74-8d70-463147958f86",
   "metadata": {
    "tags": []
   },
   "outputs": [],
   "source": [
    "TEST = pd.read_csv(\"http://www.i3s.unice.fr/~riveill/dataset/Amazon_Unlocked_Mobile/test.csv.gz\")"
   ]
  },
  {
   "cell_type": "code",
   "execution_count": 8,
   "id": "71b2a4eb-2971-4b01-a102-2f00c2424f7a",
   "metadata": {
    "tags": []
   },
   "outputs": [
    {
     "data": {
      "text/html": [
       "<div>\n",
       "<style scoped>\n",
       "    .dataframe tbody tr th:only-of-type {\n",
       "        vertical-align: middle;\n",
       "    }\n",
       "\n",
       "    .dataframe tbody tr th {\n",
       "        vertical-align: top;\n",
       "    }\n",
       "\n",
       "    .dataframe thead th {\n",
       "        text-align: right;\n",
       "    }\n",
       "</style>\n",
       "<table border=\"1\" class=\"dataframe\">\n",
       "  <thead>\n",
       "    <tr style=\"text-align: right;\">\n",
       "      <th></th>\n",
       "      <th>Product Name</th>\n",
       "      <th>Brand Name</th>\n",
       "      <th>Price</th>\n",
       "      <th>Rating</th>\n",
       "      <th>Reviews</th>\n",
       "      <th>Review Votes</th>\n",
       "    </tr>\n",
       "  </thead>\n",
       "  <tbody>\n",
       "    <tr>\n",
       "      <th>0</th>\n",
       "      <td>Samsung Galaxy Note 4 N910C Unlocked Cellphone...</td>\n",
       "      <td>Samsung</td>\n",
       "      <td>449.99</td>\n",
       "      <td>4</td>\n",
       "      <td>I love it!!! I absolutely love it!! 👌👍</td>\n",
       "      <td>0.0</td>\n",
       "    </tr>\n",
       "    <tr>\n",
       "      <th>1</th>\n",
       "      <td>BLU Energy X Plus Smartphone - With 4000 mAh S...</td>\n",
       "      <td>BLU</td>\n",
       "      <td>139.00</td>\n",
       "      <td>5</td>\n",
       "      <td>I love the BLU phones! This is my second one t...</td>\n",
       "      <td>4.0</td>\n",
       "    </tr>\n",
       "  </tbody>\n",
       "</table>\n",
       "</div>"
      ],
      "text/plain": [
       "                                        Product Name Brand Name   Price  \\\n",
       "0  Samsung Galaxy Note 4 N910C Unlocked Cellphone...    Samsung  449.99   \n",
       "1  BLU Energy X Plus Smartphone - With 4000 mAh S...        BLU  139.00   \n",
       "\n",
       "   Rating                                            Reviews  Review Votes  \n",
       "0       4             I love it!!! I absolutely love it!! 👌👍           0.0  \n",
       "1       5  I love the BLU phones! This is my second one t...           4.0  "
      ]
     },
     "execution_count": 8,
     "metadata": {},
     "output_type": "execute_result"
    }
   ],
   "source": [
    "TRAIN.head(2)"
   ]
  },
  {
   "cell_type": "code",
   "execution_count": 9,
   "id": "e62f8bb6-2162-4758-a4e3-cc11298b074a",
   "metadata": {
    "tags": []
   },
   "outputs": [
    {
     "data": {
      "text/html": [
       "<div>\n",
       "<style scoped>\n",
       "    .dataframe tbody tr th:only-of-type {\n",
       "        vertical-align: middle;\n",
       "    }\n",
       "\n",
       "    .dataframe tbody tr th {\n",
       "        vertical-align: top;\n",
       "    }\n",
       "\n",
       "    .dataframe thead th {\n",
       "        text-align: right;\n",
       "    }\n",
       "</style>\n",
       "<table border=\"1\" class=\"dataframe\">\n",
       "  <thead>\n",
       "    <tr style=\"text-align: right;\">\n",
       "      <th></th>\n",
       "      <th>Product Name</th>\n",
       "      <th>Brand Name</th>\n",
       "      <th>Price</th>\n",
       "      <th>Rating</th>\n",
       "      <th>Reviews</th>\n",
       "      <th>Review Votes</th>\n",
       "    </tr>\n",
       "  </thead>\n",
       "  <tbody>\n",
       "    <tr>\n",
       "      <th>0</th>\n",
       "      <td>Samsung 32GB Galaxy Note 10.1\" Android 4G LTE ...</td>\n",
       "      <td>NaN</td>\n",
       "      <td>499.99</td>\n",
       "      <td>4</td>\n",
       "      <td>The speed of this tablet is unreal! It is by f...</td>\n",
       "      <td>24.0</td>\n",
       "    </tr>\n",
       "    <tr>\n",
       "      <th>1</th>\n",
       "      <td>Kyocera Hydro C5170 PrePaid - Boost Mobile</td>\n",
       "      <td>NaN</td>\n",
       "      <td>27.47</td>\n",
       "      <td>4</td>\n",
       "      <td>i had been shopping for a smart phone from boo...</td>\n",
       "      <td>1.0</td>\n",
       "    </tr>\n",
       "  </tbody>\n",
       "</table>\n",
       "</div>"
      ],
      "text/plain": [
       "                                        Product Name Brand Name   Price  \\\n",
       "0  Samsung 32GB Galaxy Note 10.1\" Android 4G LTE ...        NaN  499.99   \n",
       "1         Kyocera Hydro C5170 PrePaid - Boost Mobile        NaN   27.47   \n",
       "\n",
       "   Rating                                            Reviews  Review Votes  \n",
       "0       4  The speed of this tablet is unreal! It is by f...          24.0  \n",
       "1       4  i had been shopping for a smart phone from boo...           1.0  "
      ]
     },
     "execution_count": 9,
     "metadata": {},
     "output_type": "execute_result"
    }
   ],
   "source": [
    "TEST.head(2)"
   ]
  },
  {
   "cell_type": "markdown",
   "id": "11fcc669-5515-4fad-ba8e-aeb0ed8891c0",
   "metadata": {},
   "source": [
    "**Conversion of classes into 0 and 1 in TRAINING DATA SET**"
   ]
  },
  {
   "cell_type": "code",
   "execution_count": 10,
   "id": "b0491107-6ff7-4f83-8407-d6c55b6ba6c1",
   "metadata": {
    "tags": []
   },
   "outputs": [
    {
     "data": {
      "text/html": [
       "<div>\n",
       "<style scoped>\n",
       "    .dataframe tbody tr th:only-of-type {\n",
       "        vertical-align: middle;\n",
       "    }\n",
       "\n",
       "    .dataframe tbody tr th {\n",
       "        vertical-align: top;\n",
       "    }\n",
       "\n",
       "    .dataframe thead th {\n",
       "        text-align: right;\n",
       "    }\n",
       "</style>\n",
       "<table border=\"1\" class=\"dataframe\">\n",
       "  <thead>\n",
       "    <tr style=\"text-align: right;\">\n",
       "      <th></th>\n",
       "      <th>Product Name</th>\n",
       "      <th>Brand Name</th>\n",
       "      <th>Price</th>\n",
       "      <th>Rating</th>\n",
       "      <th>Reviews</th>\n",
       "      <th>Review Votes</th>\n",
       "    </tr>\n",
       "  </thead>\n",
       "  <tbody>\n",
       "    <tr>\n",
       "      <th>0</th>\n",
       "      <td>Samsung Galaxy Note 4 N910C Unlocked Cellphone...</td>\n",
       "      <td>Samsung</td>\n",
       "      <td>449.99</td>\n",
       "      <td>1</td>\n",
       "      <td>I love it!!! I absolutely love it!! 👌👍</td>\n",
       "      <td>0.0</td>\n",
       "    </tr>\n",
       "    <tr>\n",
       "      <th>1</th>\n",
       "      <td>BLU Energy X Plus Smartphone - With 4000 mAh S...</td>\n",
       "      <td>BLU</td>\n",
       "      <td>139.00</td>\n",
       "      <td>1</td>\n",
       "      <td>I love the BLU phones! This is my second one t...</td>\n",
       "      <td>4.0</td>\n",
       "    </tr>\n",
       "    <tr>\n",
       "      <th>2</th>\n",
       "      <td>Apple iPhone 6 128GB Silver AT&amp;T</td>\n",
       "      <td>Apple</td>\n",
       "      <td>599.95</td>\n",
       "      <td>1</td>\n",
       "      <td>Great phone</td>\n",
       "      <td>1.0</td>\n",
       "    </tr>\n",
       "    <tr>\n",
       "      <th>3</th>\n",
       "      <td>BLU Advance 4.0L Unlocked Smartphone -US GSM -...</td>\n",
       "      <td>BLU</td>\n",
       "      <td>51.99</td>\n",
       "      <td>1</td>\n",
       "      <td>Very happy with the performance. The apps work...</td>\n",
       "      <td>2.0</td>\n",
       "    </tr>\n",
       "    <tr>\n",
       "      <th>4</th>\n",
       "      <td>Huawei P8 Lite US Version- 5 Unlocked Android ...</td>\n",
       "      <td>Huawei</td>\n",
       "      <td>198.99</td>\n",
       "      <td>1</td>\n",
       "      <td>Easy to use great price</td>\n",
       "      <td>0.0</td>\n",
       "    </tr>\n",
       "  </tbody>\n",
       "</table>\n",
       "</div>"
      ],
      "text/plain": [
       "                                        Product Name Brand Name   Price  \\\n",
       "0  Samsung Galaxy Note 4 N910C Unlocked Cellphone...    Samsung  449.99   \n",
       "1  BLU Energy X Plus Smartphone - With 4000 mAh S...        BLU  139.00   \n",
       "2                   Apple iPhone 6 128GB Silver AT&T      Apple  599.95   \n",
       "3  BLU Advance 4.0L Unlocked Smartphone -US GSM -...        BLU   51.99   \n",
       "4  Huawei P8 Lite US Version- 5 Unlocked Android ...     Huawei  198.99   \n",
       "\n",
       "   Rating                                            Reviews  Review Votes  \n",
       "0       1             I love it!!! I absolutely love it!! 👌👍           0.0  \n",
       "1       1  I love the BLU phones! This is my second one t...           4.0  \n",
       "2       1                                        Great phone           1.0  \n",
       "3       1  Very happy with the performance. The apps work...           2.0  \n",
       "4       1                            Easy to use great price           0.0  "
      ]
     },
     "execution_count": 10,
     "metadata": {},
     "output_type": "execute_result"
    }
   ],
   "source": [
    "TRAIN['Rating'] = TRAIN['Rating'].apply(lambda x: 1 if x in [3, 4, 5] else 0)\n",
    "TRAIN.head()"
   ]
  },
  {
   "cell_type": "code",
   "execution_count": null,
   "id": "4354936e-e821-4ffe-beb4-3d9eeb30b236",
   "metadata": {
    "tags": []
   },
   "outputs": [],
   "source": []
  },
  {
   "cell_type": "markdown",
   "id": "b48dae78-4516-4411-a54a-23097fd55f0c",
   "metadata": {},
   "source": [
    "**Conversion of classes into 0 and 1 in TEST DATA SET**"
   ]
  },
  {
   "cell_type": "code",
   "execution_count": 11,
   "id": "6b2f8a7d-f820-437a-96f7-23e98b5f6239",
   "metadata": {
    "tags": []
   },
   "outputs": [
    {
     "data": {
      "text/html": [
       "<div>\n",
       "<style scoped>\n",
       "    .dataframe tbody tr th:only-of-type {\n",
       "        vertical-align: middle;\n",
       "    }\n",
       "\n",
       "    .dataframe tbody tr th {\n",
       "        vertical-align: top;\n",
       "    }\n",
       "\n",
       "    .dataframe thead th {\n",
       "        text-align: right;\n",
       "    }\n",
       "</style>\n",
       "<table border=\"1\" class=\"dataframe\">\n",
       "  <thead>\n",
       "    <tr style=\"text-align: right;\">\n",
       "      <th></th>\n",
       "      <th>Product Name</th>\n",
       "      <th>Brand Name</th>\n",
       "      <th>Price</th>\n",
       "      <th>Rating</th>\n",
       "      <th>Reviews</th>\n",
       "      <th>Review Votes</th>\n",
       "    </tr>\n",
       "  </thead>\n",
       "  <tbody>\n",
       "    <tr>\n",
       "      <th>0</th>\n",
       "      <td>Samsung 32GB Galaxy Note 10.1\" Android 4G LTE ...</td>\n",
       "      <td>NaN</td>\n",
       "      <td>499.99</td>\n",
       "      <td>1</td>\n",
       "      <td>The speed of this tablet is unreal! It is by f...</td>\n",
       "      <td>24.0</td>\n",
       "    </tr>\n",
       "    <tr>\n",
       "      <th>1</th>\n",
       "      <td>Kyocera Hydro C5170 PrePaid - Boost Mobile</td>\n",
       "      <td>NaN</td>\n",
       "      <td>27.47</td>\n",
       "      <td>1</td>\n",
       "      <td>i had been shopping for a smart phone from boo...</td>\n",
       "      <td>1.0</td>\n",
       "    </tr>\n",
       "    <tr>\n",
       "      <th>2</th>\n",
       "      <td>Apple iPhone 6 Plus Unlocked Cellphone, 16GB, ...</td>\n",
       "      <td>Apple</td>\n",
       "      <td>519.00</td>\n",
       "      <td>0</td>\n",
       "      <td>I would not recommend this phone.. It has a lo...</td>\n",
       "      <td>0.0</td>\n",
       "    </tr>\n",
       "    <tr>\n",
       "      <th>3</th>\n",
       "      <td>HTC One M8 - Factory Unlocked 32GB - US Warran...</td>\n",
       "      <td>HTC</td>\n",
       "      <td>138.99</td>\n",
       "      <td>0</td>\n",
       "      <td>NOT UNLOCKED!!!!! beware!!! Also as soon as I ...</td>\n",
       "      <td>NaN</td>\n",
       "    </tr>\n",
       "    <tr>\n",
       "      <th>4</th>\n",
       "      <td>T-Mobile Prepaid LG GS170 No-Contract Mobile P...</td>\n",
       "      <td>LG</td>\n",
       "      <td>299.99</td>\n",
       "      <td>1</td>\n",
       "      <td>This phone is a gift for my 80's something fri...</td>\n",
       "      <td>0.0</td>\n",
       "    </tr>\n",
       "  </tbody>\n",
       "</table>\n",
       "</div>"
      ],
      "text/plain": [
       "                                        Product Name Brand Name   Price  \\\n",
       "0  Samsung 32GB Galaxy Note 10.1\" Android 4G LTE ...        NaN  499.99   \n",
       "1         Kyocera Hydro C5170 PrePaid - Boost Mobile        NaN   27.47   \n",
       "2  Apple iPhone 6 Plus Unlocked Cellphone, 16GB, ...      Apple  519.00   \n",
       "3  HTC One M8 - Factory Unlocked 32GB - US Warran...        HTC  138.99   \n",
       "4  T-Mobile Prepaid LG GS170 No-Contract Mobile P...         LG  299.99   \n",
       "\n",
       "   Rating                                            Reviews  Review Votes  \n",
       "0       1  The speed of this tablet is unreal! It is by f...          24.0  \n",
       "1       1  i had been shopping for a smart phone from boo...           1.0  \n",
       "2       0  I would not recommend this phone.. It has a lo...           0.0  \n",
       "3       0  NOT UNLOCKED!!!!! beware!!! Also as soon as I ...           NaN  \n",
       "4       1  This phone is a gift for my 80's something fri...           0.0  "
      ]
     },
     "execution_count": 11,
     "metadata": {},
     "output_type": "execute_result"
    }
   ],
   "source": [
    "TEST['Rating'] = TEST['Rating'].apply(lambda x: 1 if x in [3, 4, 5] else 0)\n",
    "TEST.head()"
   ]
  },
  {
   "cell_type": "markdown",
   "id": "1e8cdbc5-172d-4c93-b5e1-e101777fe7de",
   "metadata": {
    "tags": []
   },
   "source": [
    "## X_TRAIN X_TEST Y_TRAIN Y_TEST DATA SELECTING "
   ]
  },
  {
   "cell_type": "code",
   "execution_count": 12,
   "id": "420d9fd9-ee76-4083-8e41-127475c4ad4f",
   "metadata": {
    "tags": []
   },
   "outputs": [],
   "source": [
    "X_TRAIN =  TRAIN.drop('Rating', axis=1)"
   ]
  },
  {
   "cell_type": "code",
   "execution_count": 13,
   "id": "a314f2db-8659-44cb-8053-7bda83971782",
   "metadata": {
    "tags": []
   },
   "outputs": [],
   "source": [
    "Y_TRAIN = TRAIN[\"Rating\"]"
   ]
  },
  {
   "cell_type": "code",
   "execution_count": 14,
   "id": "9a7bc7f4-d9a3-43fc-ae63-35a46a2f51e0",
   "metadata": {
    "tags": []
   },
   "outputs": [],
   "source": [
    "X_TEST = TEST.drop('Rating', axis=1)"
   ]
  },
  {
   "cell_type": "code",
   "execution_count": 15,
   "id": "c0c0c074-6539-47a5-a51e-d287bc514970",
   "metadata": {
    "tags": []
   },
   "outputs": [],
   "source": [
    "Y_TEST = TEST[\"Rating\"]"
   ]
  },
  {
   "cell_type": "code",
   "execution_count": 16,
   "id": "7bf3d22b-b44d-4e87-992c-032bb1c2c373",
   "metadata": {
    "tags": []
   },
   "outputs": [],
   "source": [
    "# Y_TEST"
   ]
  },
  {
   "cell_type": "markdown",
   "id": "a7710d6a-135a-436b-aeb5-51cd89b2ff3c",
   "metadata": {
    "tags": []
   },
   "source": [
    "## PIPELINE"
   ]
  },
  {
   "cell_type": "markdown",
   "id": "ef66b04c-560d-4fde-8c24-b76963603fc0",
   "metadata": {
    "tags": []
   },
   "source": [
    "### CUSTOM FUNCTION TO handle Emoji in pipeline"
   ]
  },
  {
   "cell_type": "code",
   "execution_count": 17,
   "id": "1172ae7a-1646-4a96-a54d-453883fc4e57",
   "metadata": {
    "tags": []
   },
   "outputs": [],
   "source": [
    "import re\n",
    "import emoji\n",
    "from sklearn.base import BaseEstimator, TransformerMixin\n",
    "\n",
    "class EmojiTransformer(BaseEstimator, TransformerMixin):\n",
    "    def __init__(self):\n",
    "        pass\n",
    "\n",
    "    def fit(self, X, y=None):\n",
    "        return self\n",
    "\n",
    "    def transform(self, X):\n",
    "        # Apply the emoji handling transformation to each text in X\n",
    "        X_transformed = [self.handle_emojis(text) for text in X]\n",
    "        return X_transformed\n",
    "\n",
    "    def handle_emojis(self, text):\n",
    "        cleaned_text = handle_emojis(text)\n",
    "        return cleaned_text\n",
    "\n",
    "# function to handle emojis\n",
    "def handle_emojis(text):\n",
    "    return emoji.demojize(text)\n"
   ]
  },
  {
   "cell_type": "markdown",
   "id": "bb6a757f-28e0-4950-be7b-b029637f9f81",
   "metadata": {},
   "source": [
    "### CUSTOM FUNCTION for Lemmatization in pipeline"
   ]
  },
  {
   "cell_type": "code",
   "execution_count": 18,
   "id": "150b2bdc-5f4b-4032-8a70-6498bf968059",
   "metadata": {
    "tags": []
   },
   "outputs": [],
   "source": [
    "class Lemmatizer(BaseEstimator, TransformerMixin):\n",
    "    def __init__(self):\n",
    "        self.lemmatizer = WordNetLemmatizer()\n",
    "\n",
    "    def fit(self, X, y=None):\n",
    "        return self\n",
    "\n",
    "    def transform(self, X):\n",
    "        return [' '.join([self.lemmatizer.lemmatize(word) for word in nltk.word_tokenize(text.lower())]) for text in X]\n"
   ]
  },
  {
   "cell_type": "markdown",
   "id": "f51e80be-351c-4386-bf55-5ce004826b7c",
   "metadata": {},
   "source": [
    "### CUSTOM FUNCTION for stopward removal in pipeline"
   ]
  },
  {
   "cell_type": "code",
   "execution_count": 19,
   "id": "f5695049-aee3-4988-ba23-144928c87bd5",
   "metadata": {
    "tags": []
   },
   "outputs": [],
   "source": [
    "# from sklearn.feature_extraction.text import ENGLISH_STOP_WORDS\n",
    "from nltk.corpus import stopwords\n",
    "\n",
    "stop_words = set(stopwords.words('english'))\n",
    "#  custom transformer for stopword removal\n",
    "class StopwordRemover:\n",
    "    def __init__(self):\n",
    "        pass\n",
    "    def fit(self, X, y=None):\n",
    "        return self\n",
    "\n",
    "    def transform(self, X):\n",
    "        stop_words = set(stopwords.words('english'))\n",
    "        return [' '.join([word for word in doc.split() if word.lower() not in stop_words]) for doc in X]\n",
    "    "
   ]
  },
  {
   "cell_type": "markdown",
   "id": "c337f9c7-d913-4e12-8fb3-1978acb5c234",
   "metadata": {},
   "source": [
    "### MainPipeline"
   ]
  },
  {
   "cell_type": "code",
   "execution_count": 20,
   "id": "2203dd84-13a8-4fe7-902a-ea57ee3179ff",
   "metadata": {
    "tags": []
   },
   "outputs": [],
   "source": [
    "\n",
    "\n",
    "# Instantiate  custom transformers\n",
    "emoji_transformer = EmojiTransformer()\n",
    "stopwordremover = StopwordRemover()\n",
    "lemmatizer = Lemmatizer()\n",
    "# Create a pipeline \n",
    "pipeline = Pipeline([\n",
    "    ('col_selector', ColumnSelector(cols=('Reviews'), drop_axis=True)),\n",
    "    # ('col_selector', ColumnSelector(cols=['Reviews'])),  # Pass the column name as a list\n",
    "\n",
    "    ('emoji', emoji_transformer),\n",
    "    ('stopword_remover', stopwordremover),\n",
    "    ('lemmatizer', lemmatizer),\n",
    "    ('tfidf', TfidfVectorizer()),  \n",
    "    ('lr', LogisticRegression(max_iter=50000)) \n",
    "])\n"
   ]
  },
  {
   "cell_type": "code",
   "execution_count": 21,
   "id": "becc877e-900a-4b6d-a818-132f00d9bdb1",
   "metadata": {
    "tags": []
   },
   "outputs": [
    {
     "data": {
      "text/html": [
       "<style>#sk-container-id-1 {color: black;}#sk-container-id-1 pre{padding: 0;}#sk-container-id-1 div.sk-toggleable {background-color: white;}#sk-container-id-1 label.sk-toggleable__label {cursor: pointer;display: block;width: 100%;margin-bottom: 0;padding: 0.3em;box-sizing: border-box;text-align: center;}#sk-container-id-1 label.sk-toggleable__label-arrow:before {content: \"▸\";float: left;margin-right: 0.25em;color: #696969;}#sk-container-id-1 label.sk-toggleable__label-arrow:hover:before {color: black;}#sk-container-id-1 div.sk-estimator:hover label.sk-toggleable__label-arrow:before {color: black;}#sk-container-id-1 div.sk-toggleable__content {max-height: 0;max-width: 0;overflow: hidden;text-align: left;background-color: #f0f8ff;}#sk-container-id-1 div.sk-toggleable__content pre {margin: 0.2em;color: black;border-radius: 0.25em;background-color: #f0f8ff;}#sk-container-id-1 input.sk-toggleable__control:checked~div.sk-toggleable__content {max-height: 200px;max-width: 100%;overflow: auto;}#sk-container-id-1 input.sk-toggleable__control:checked~label.sk-toggleable__label-arrow:before {content: \"▾\";}#sk-container-id-1 div.sk-estimator input.sk-toggleable__control:checked~label.sk-toggleable__label {background-color: #d4ebff;}#sk-container-id-1 div.sk-label input.sk-toggleable__control:checked~label.sk-toggleable__label {background-color: #d4ebff;}#sk-container-id-1 input.sk-hidden--visually {border: 0;clip: rect(1px 1px 1px 1px);clip: rect(1px, 1px, 1px, 1px);height: 1px;margin: -1px;overflow: hidden;padding: 0;position: absolute;width: 1px;}#sk-container-id-1 div.sk-estimator {font-family: monospace;background-color: #f0f8ff;border: 1px dotted black;border-radius: 0.25em;box-sizing: border-box;margin-bottom: 0.5em;}#sk-container-id-1 div.sk-estimator:hover {background-color: #d4ebff;}#sk-container-id-1 div.sk-parallel-item::after {content: \"\";width: 100%;border-bottom: 1px solid gray;flex-grow: 1;}#sk-container-id-1 div.sk-label:hover label.sk-toggleable__label {background-color: #d4ebff;}#sk-container-id-1 div.sk-serial::before {content: \"\";position: absolute;border-left: 1px solid gray;box-sizing: border-box;top: 0;bottom: 0;left: 50%;z-index: 0;}#sk-container-id-1 div.sk-serial {display: flex;flex-direction: column;align-items: center;background-color: white;padding-right: 0.2em;padding-left: 0.2em;position: relative;}#sk-container-id-1 div.sk-item {position: relative;z-index: 1;}#sk-container-id-1 div.sk-parallel {display: flex;align-items: stretch;justify-content: center;background-color: white;position: relative;}#sk-container-id-1 div.sk-item::before, #sk-container-id-1 div.sk-parallel-item::before {content: \"\";position: absolute;border-left: 1px solid gray;box-sizing: border-box;top: 0;bottom: 0;left: 50%;z-index: -1;}#sk-container-id-1 div.sk-parallel-item {display: flex;flex-direction: column;z-index: 1;position: relative;background-color: white;}#sk-container-id-1 div.sk-parallel-item:first-child::after {align-self: flex-end;width: 50%;}#sk-container-id-1 div.sk-parallel-item:last-child::after {align-self: flex-start;width: 50%;}#sk-container-id-1 div.sk-parallel-item:only-child::after {width: 0;}#sk-container-id-1 div.sk-dashed-wrapped {border: 1px dashed gray;margin: 0 0.4em 0.5em 0.4em;box-sizing: border-box;padding-bottom: 0.4em;background-color: white;}#sk-container-id-1 div.sk-label label {font-family: monospace;font-weight: bold;display: inline-block;line-height: 1.2em;}#sk-container-id-1 div.sk-label-container {text-align: center;}#sk-container-id-1 div.sk-container {/* jupyter's `normalize.less` sets `[hidden] { display: none; }` but bootstrap.min.css set `[hidden] { display: none !important; }` so we also need the `!important` here to be able to override the default hidden behavior on the sphinx rendered scikit-learn.org. See: https://github.com/scikit-learn/scikit-learn/issues/21755 */display: inline-block !important;position: relative;}#sk-container-id-1 div.sk-text-repr-fallback {display: none;}</style><div id=\"sk-container-id-1\" class=\"sk-top-container\"><div class=\"sk-text-repr-fallback\"><pre>Pipeline(steps=[(&#x27;col_selector&#x27;,\n",
       "                 ColumnSelector(cols=&#x27;Reviews&#x27;, drop_axis=True)),\n",
       "                (&#x27;emoji&#x27;, EmojiTransformer()),\n",
       "                (&#x27;stopword_remover&#x27;,\n",
       "                 &lt;__main__.StopwordRemover object at 0x00000279126BEC50&gt;),\n",
       "                (&#x27;lemmatizer&#x27;, Lemmatizer()), (&#x27;tfidf&#x27;, TfidfVectorizer()),\n",
       "                (&#x27;lr&#x27;, LogisticRegression(max_iter=50000))])</pre><b>In a Jupyter environment, please rerun this cell to show the HTML representation or trust the notebook. <br />On GitHub, the HTML representation is unable to render, please try loading this page with nbviewer.org.</b></div><div class=\"sk-container\" hidden><div class=\"sk-item sk-dashed-wrapped\"><div class=\"sk-label-container\"><div class=\"sk-label sk-toggleable\"><input class=\"sk-toggleable__control sk-hidden--visually\" id=\"sk-estimator-id-1\" type=\"checkbox\" ><label for=\"sk-estimator-id-1\" class=\"sk-toggleable__label sk-toggleable__label-arrow\">Pipeline</label><div class=\"sk-toggleable__content\"><pre>Pipeline(steps=[(&#x27;col_selector&#x27;,\n",
       "                 ColumnSelector(cols=&#x27;Reviews&#x27;, drop_axis=True)),\n",
       "                (&#x27;emoji&#x27;, EmojiTransformer()),\n",
       "                (&#x27;stopword_remover&#x27;,\n",
       "                 &lt;__main__.StopwordRemover object at 0x00000279126BEC50&gt;),\n",
       "                (&#x27;lemmatizer&#x27;, Lemmatizer()), (&#x27;tfidf&#x27;, TfidfVectorizer()),\n",
       "                (&#x27;lr&#x27;, LogisticRegression(max_iter=50000))])</pre></div></div></div><div class=\"sk-serial\"><div class=\"sk-item\"><div class=\"sk-estimator sk-toggleable\"><input class=\"sk-toggleable__control sk-hidden--visually\" id=\"sk-estimator-id-2\" type=\"checkbox\" ><label for=\"sk-estimator-id-2\" class=\"sk-toggleable__label sk-toggleable__label-arrow\">ColumnSelector</label><div class=\"sk-toggleable__content\"><pre>ColumnSelector(cols=&#x27;Reviews&#x27;, drop_axis=True)</pre></div></div></div><div class=\"sk-item\"><div class=\"sk-estimator sk-toggleable\"><input class=\"sk-toggleable__control sk-hidden--visually\" id=\"sk-estimator-id-3\" type=\"checkbox\" ><label for=\"sk-estimator-id-3\" class=\"sk-toggleable__label sk-toggleable__label-arrow\">EmojiTransformer</label><div class=\"sk-toggleable__content\"><pre>EmojiTransformer()</pre></div></div></div><div class=\"sk-item\"><div class=\"sk-estimator sk-toggleable\"><input class=\"sk-toggleable__control sk-hidden--visually\" id=\"sk-estimator-id-4\" type=\"checkbox\" ><label for=\"sk-estimator-id-4\" class=\"sk-toggleable__label sk-toggleable__label-arrow\">StopwordRemover</label><div class=\"sk-toggleable__content\"><pre>&lt;__main__.StopwordRemover object at 0x00000279126BEC50&gt;</pre></div></div></div><div class=\"sk-item\"><div class=\"sk-estimator sk-toggleable\"><input class=\"sk-toggleable__control sk-hidden--visually\" id=\"sk-estimator-id-5\" type=\"checkbox\" ><label for=\"sk-estimator-id-5\" class=\"sk-toggleable__label sk-toggleable__label-arrow\">Lemmatizer</label><div class=\"sk-toggleable__content\"><pre>Lemmatizer()</pre></div></div></div><div class=\"sk-item\"><div class=\"sk-estimator sk-toggleable\"><input class=\"sk-toggleable__control sk-hidden--visually\" id=\"sk-estimator-id-6\" type=\"checkbox\" ><label for=\"sk-estimator-id-6\" class=\"sk-toggleable__label sk-toggleable__label-arrow\">TfidfVectorizer</label><div class=\"sk-toggleable__content\"><pre>TfidfVectorizer()</pre></div></div></div><div class=\"sk-item\"><div class=\"sk-estimator sk-toggleable\"><input class=\"sk-toggleable__control sk-hidden--visually\" id=\"sk-estimator-id-7\" type=\"checkbox\" ><label for=\"sk-estimator-id-7\" class=\"sk-toggleable__label sk-toggleable__label-arrow\">LogisticRegression</label><div class=\"sk-toggleable__content\"><pre>LogisticRegression(max_iter=50000)</pre></div></div></div></div></div></div></div>"
      ],
      "text/plain": [
       "Pipeline(steps=[('col_selector',\n",
       "                 ColumnSelector(cols='Reviews', drop_axis=True)),\n",
       "                ('emoji', EmojiTransformer()),\n",
       "                ('stopword_remover',\n",
       "                 <__main__.StopwordRemover object at 0x00000279126BEC50>),\n",
       "                ('lemmatizer', Lemmatizer()), ('tfidf', TfidfVectorizer()),\n",
       "                ('lr', LogisticRegression(max_iter=50000))])"
      ]
     },
     "execution_count": 21,
     "metadata": {},
     "output_type": "execute_result"
    }
   ],
   "source": [
    "pipeline"
   ]
  },
  {
   "cell_type": "code",
   "execution_count": 22,
   "id": "c2c03723-63ab-4395-b55d-9e00cc7b4fec",
   "metadata": {},
   "outputs": [],
   "source": [
    "model = pipeline.fit(X_TRAIN, Y_TRAIN)\n"
   ]
  },
  {
   "cell_type": "markdown",
   "id": "95ceb73d-7ec5-4fcc-a093-8bd59657df4f",
   "metadata": {
    "tags": []
   },
   "source": [
    "## EVALUATION"
   ]
  },
  {
   "cell_type": "code",
   "execution_count": 23,
   "id": "e1de2caf-fe2a-48fd-b8e5-c3bc565a1ffe",
   "metadata": {
    "tags": []
   },
   "outputs": [],
   "source": [
    "y_pred = model.predict(X_TEST)\n"
   ]
  },
  {
   "cell_type": "code",
   "execution_count": 24,
   "id": "0720b693-1d23-4020-88a6-86737e200c46",
   "metadata": {
    "tags": []
   },
   "outputs": [
    {
     "data": {
      "text/plain": [
       "Text(0.5, 1.0, 'Confusion matrix')"
      ]
     },
     "execution_count": 24,
     "metadata": {},
     "output_type": "execute_result"
    },
    {
     "data": {
      "image/png": "[encoded data removed]",
      "text/plain": [
       "<Figure size 600x400 with 2 Axes>"
      ]
     },
     "metadata": {},
     "output_type": "display_data"
    }
   ],
   "source": [
    "\n",
    "\n",
    "cm = confusion_matrix(Y_TEST, y_pred)\n",
    "\n",
    "fig, ax = plt.subplots(figsize=(6, 4)) \n",
    "\n",
    "disp = ConfusionMatrixDisplay(confusion_matrix=cm, display_labels=['Class 0', 'Class 1'])\n",
    "# disp.plot()\n",
    "disp.plot(ax=ax)\n",
    "\n",
    "disp.ax_.set_title('Confusion matrix')"
   ]
  },
  {
   "cell_type": "code",
   "execution_count": 25,
   "id": "4871fd16-3e4d-43e0-b51b-c2a3e23f5745",
   "metadata": {
    "tags": []
   },
   "outputs": [
    {
     "name": "stdout",
     "output_type": "stream",
     "text": [
      "F1 Score: 0.8632364083357894\n",
      "Accuracy: 0.876\n"
     ]
    }
   ],
   "source": [
    "f1 = f1_score(Y_TEST, y_pred, average='weighted')\n",
    "accuracy = accuracy_score(Y_TEST, y_pred)\n",
    "\n",
    "\n",
    "print(f\"F1 Score: {f1}\")\n",
    "print(f\"Accuracy: {accuracy}\")\n"
   ]
  },
  {
   "cell_type": "code",
   "execution_count": 29,
   "id": "d8815631-7bb0-4948-9208-aa25a3fbf883",
   "metadata": {
    "tags": []
   },
   "outputs": [],
   "source": [
    "# pip install --upgrade scikit-learn\n"
   ]
  },
  {
   "cell_type": "code",
   "execution_count": 42,
   "id": "798682d4-d4dd-45ae-b429-40b4f57e6284",
   "metadata": {},
   "outputs": [],
   "source": [
    "from sklearn.metrics import roc_auc_score\n",
    "from sklearn.metrics import roc_curve, auc, RocCurveDisplay\n",
    "\n"
   ]
  },
  {
   "cell_type": "code",
   "execution_count": 43,
   "id": "d4667d07-1825-4304-8a69-6d8afbef95a0",
   "metadata": {
    "tags": []
   },
   "outputs": [],
   "source": [
    "fpr, tpr, thresholds = roc_curve(Y_TEST, y_pred)\n"
   ]
  },
  {
   "cell_type": "code",
   "execution_count": 44,
   "id": "633ec3f9-1c45-415a-986a-d379e8ebcfe3",
   "metadata": {
    "tags": []
   },
   "outputs": [],
   "source": [
    "roc_auc = auc(fpr, tpr)"
   ]
  },
  {
   "cell_type": "code",
   "execution_count": 49,
   "id": "d06415c5-3fd7-4006-b01c-d35109aadf02",
   "metadata": {
    "tags": []
   },
   "outputs": [],
   "source": [
    "display = RocCurveDisplay(fpr=fpr, tpr=tpr, roc_auc=roc_auc,estimator_name='ROC CURVE')"
   ]
  },
  {
   "cell_type": "code",
   "execution_count": 50,
   "id": "0e185918-f0f4-4674-a748-09587298c2a1",
   "metadata": {
    "tags": []
   },
   "outputs": [
    {
     "data": {
      "text/plain": [
       "<sklearn.metrics._plot.roc_curve.RocCurveDisplay at 0x27914f381d0>"
      ]
     },
     "execution_count": 50,
     "metadata": {},
     "output_type": "execute_result"
    },
    {
     "data": {
      "image/png": "[encoded data removed]",
      "text/plain": [
       "<Figure size 640x480 with 1 Axes>"
      ]
     },
     "metadata": {},
     "output_type": "display_data"
    }
   ],
   "source": [
    "display.plot()"
   ]
  },
  {
   "cell_type": "code",
   "execution_count": 57,
   "id": "1473e708-2fe5-4d28-b115-3e6773c00880",
   "metadata": {
    "tags": []
   },
   "outputs": [],
   "source": [
    "from sklearn.metrics import precision_recall_curve, PrecisionRecallDisplay"
   ]
  },
  {
   "cell_type": "code",
   "execution_count": 58,
   "id": "d6ada6fd-d3e6-4552-9b3d-a8fc0b624564",
   "metadata": {
    "tags": []
   },
   "outputs": [],
   "source": [
    "precision, recall, thresholds = precision_recall_curve(Y_TEST, y_pred)\n"
   ]
  },
  {
   "cell_type": "code",
   "execution_count": 59,
   "id": "a63ccdec-5f70-4e68-a1d7-6b92ab860e07",
   "metadata": {
    "tags": []
   },
   "outputs": [
    {
     "name": "stdout",
     "output_type": "stream",
     "text": [
      "[0 1]\n",
      "[0.79       0.88013699 1.        ]\n",
      "[1.         0.97594937 0.        ]\n"
     ]
    }
   ],
   "source": [
    "print(thresholds)\n",
    "print(precision)\n",
    "print(recall)"
   ]
  },
  {
   "cell_type": "code",
   "execution_count": 60,
   "id": "74bda74d-0dd1-495e-a4c6-535d89d4f5b1",
   "metadata": {
    "tags": []
   },
   "outputs": [
    {
     "data": {
      "image/png": "[encoded data removed]",
      "text/plain": [
       "<Figure size 640x480 with 1 Axes>"
      ]
     },
     "metadata": {},
     "output_type": "display_data"
    }
   ],
   "source": [
    "display = PrecisionRecallDisplay.from_predictions(\n",
    "    Y_TEST, y_pred, name=\"LinearSVC\", plot_chance_level=True\n",
    ")\n",
    "_ = display.ax_.set_title(\"2-class Precision-Recall curve\")"
   ]
  },
  {
   "cell_type": "code",
   "execution_count": null,
   "id": "4f743f25-8ce9-413b-b616-41ef48feb2d1",
   "metadata": {},
   "outputs": [],
   "source": []
  }
 ],
 "metadata": {
  "kernelspec": {
   "display_name": "Python 3 (ipykernel)",
   "language": "python",
   "name": "python3"
  },
  "language_info": {
   "codemirror_mode": {
    "name": "ipython",
    "version": 3
   },
   "file_extension": ".py",
   "mimetype": "text/x-python",
   "name": "python",
   "nbconvert_exporter": "python",
   "pygments_lexer": "ipython3",
   "version": "3.11.5"
  }
 },
 "nbformat": 4,
 "nbformat_minor": 5
}
