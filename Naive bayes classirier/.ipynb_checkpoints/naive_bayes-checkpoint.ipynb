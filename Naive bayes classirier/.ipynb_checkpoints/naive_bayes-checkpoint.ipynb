{
 "cells": [
  {
   "cell_type": "markdown",
   "id": "2ae4d087-0984-478c-8761-103f42756a01",
   "metadata": {
    "tags": []
   },
   "source": [
    "# The naive Bayes classifier\n",
    "\n",
    "## Introduction\n",
    "\n",
    "A supervised classification method, with a lot of assumptions ..., but well adapted to high dimensional data with moderate sample size. \n",
    "\n",
    "As reminder:\n",
    "- logistic regression puts a model on $P(y|x)$ and estimates the parameters by minimizing the cross-entropy loss\n",
    "- SVM puts a model only on the classification boundary and research the separating hyperplane with largest margin \n",
    "\n",
    "Another philosophy is to consider a generative model on data distribution, i.e. model $P(x,y)$ by writting $P(x,y) = P(y)P(x|y)$. Thus it is only needed to estimate $P(x|y)$ for each possible value of $y$ (multivariate gaussian distribution, multivariate multinomial distribution, ...), and also $P(y)$ the prior probabilities (typically simply the proportion of each class). Then the posterior probability $P(y|x)$ can be computed by using the **Bayes theorem**: \n",
    "\n",
    "$$\n",
    "P(y|x) = \\frac{P(y)P(x|y)}{P(x)} = \\frac{P(y)P(x|y)}{\\sum_{k=1}^{K} P(y=k) P(x|y=k)}\n",
    "$$\n",
    "\n",
    "\n",
    "## The model\n",
    "\n",
    "Let assume that $x \\in \\mathcal{X}$ : \n",
    "- **Continuous features**: $\\mathcal{X}=\\mathcal{R}^d$, $P(x|y=k)$ is modeled by a multivariate density.\n",
    "- **Categorical features**: $\\mathcal{X}=\\prod_{j=1}^{d}\\{1, ..., m_j\\}$, $P(x|y=k)$ is modeled by a multivariate probability.\n",
    "- Also possible **mixed data**: both continuous and categorical\n",
    "\n",
    "**Question**: What model use for $P(x|y=k)$?\n",
    "\n",
    "**Some ideas**:\n",
    "- Multivariate normal distribution (need only to estimate the vector of expectations and the variance covariance matrix) \n",
    "- Mixture of multivariate normal distribution for more flexibility\n",
    "- Not so many models for categorical data ... \n",
    "\n",
    "**The Naives assumtion**:\n",
    "$$\n",
    "P(x|y=k) = P(x_1, \\ldots, x_d |y=k) = \\prod_{j=1}^{d} P(x_j|y=k),\n",
    "$$ \n",
    "\n",
    "It assumes that all the variables are independant given the class. \n",
    "\n",
    "- Avoid to model dependency! \n",
    "- Only need to model $P(x_j|y=k)$ by a univariate distribution\n",
    "    - univariate discrete probability distribution for categorical variables (multinomial, Poisson, ...) \n",
    "    - univariate probability density function (normal, Student, Gamma, exponential, ...)\n",
    "\n",
    "\n",
    "Let assume that $P(x_j|y=k)$ belong to some parametric family we will denote  $P(x_j|y=k) := P(x_j|\\theta_{kj})$  where $\\theta_{kj}$ are the paramters of the distribution of variable $j$ in class $k$:\n",
    "- $\\theta_{kj} = (\\mu_{kj} , \\sigma_{kj}^2)$ for a Gaussian distribution\n",
    "- $\\theta_{kj} = (\\alpha_{kj1}, ..., \\alpha_{kjm_{j}})$ for a multinomial distribution where $\\alpha_{kjh}$ is the probability of the model $h$ of variable $j$ in class $k$\n",
    "\n",
    "\n",
    "## Parameters estimation\n",
    "\n",
    "Parameters are estimated by maximum likelihood as in statistical inference!\n",
    "\n",
    "Let $\\theta_k = (\\theta_{k1}, ..., \\theta_{kd})$ that groups all the parameter of class $k$, let also denote by $\\pi_k = P(y=k)$ the prior probability of class which also need to be estimated. \n",
    "\n",
    "Let denote by $\\theta = (\\pi_1, ..., \\pi_K, \\theta_1, \\ldots, \\theta_K)$ that groups all the paramters of the model \n",
    "\n",
    "The likelihood is: \n",
    "$$\n",
    "\\ell(\\theta) = \\sum_{k=1}^{K} \\sum_{i \\in \\mathcal{C}_k} \\log (\\pi_k P(x_i | \\theta_k))\n",
    "$$\n",
    "with $\\mathcal{C}_k$ the set of data points belonging to class $k$\n",
    "\n",
    "\n",
    "**Estimation of the prior probabilities**\n",
    "\n",
    "For all $k \\in \\{1, ..., K \\}$\n",
    "$$\n",
    "\\hat \\pi_k = \\frac{n_k}{n}\n",
    "$$\n",
    "with $n_k$ the number of data in class $k$, among the total of $n$ data. \n",
    "\n",
    "*Remark*: This can depend on the sampling scheme, for instance in the medical setting we can consider restrospective sampling, i.e. fix by advance the proportion of each class in the training data, for instance for rare diseases have the same number of patient with and without the disease in the cohort. In this case the user can give manually the proportion of each class in the whole population.  \n",
    "\n",
    "\n",
    "**Gaussian distribution**\n",
    "For $k \\in \\{1, ..., K\\}$, $j \\in \\{1,...,d\\}$\n",
    "$$\n",
    "\\hat\\mu_{kj} = \\frac{\\sum_{i \\in \\mathcal{C}_k} x_{ij}}{n_k}\n",
    "$$\n",
    "\n",
    "$$\n",
    "\\hat\\sigma_{kj}^2 = \\frac{\\sum_{i \\in \\mathcal{C}_k} (x_{ij}-\\hat\\mu_{kj})^2}{n_k}\n",
    "$$\n",
    "\n",
    "\n",
    "**Multinomial distribution**\n",
    "For $k \\in \\{1, ..., K\\}$, $j \\in \\{1,...,d\\}$ and $h \\in \\{1,...,m_j\\}$\n",
    "$$\n",
    "\\hat\\alpha_{kjh} = \\frac{n_{kjh}}{n_k}\n",
    "$$\n",
    "with $n_{kjh}$ the number of times that modality $h$ of variable $j$ has been observed in class $k$.\n",
    "\n",
    "*Remark*: Regularized version of the estimators can be consider to avoid to estimate some $\\hat\\alpha_{kjh}$ to $0$. For instance $\\hat\\alpha_{kjh} = \\frac{n_{kjh} + c}{n_k + c m_j}$ where $c>0$ is some regularization parameter.\n",
    "\n",
    "\n",
    "## Prediction of the class for new data\n",
    "\n",
    "Based on $\\hat\\theta$, it is possible to compute $\\forall k \\in \\{1, ..., K\\}$:\n",
    "$$\n",
    "P(y=k|x, \\hat\\theta) = \\frac{\\hat\\pi_k P(x|\\hat\\theta_k)}{\\sum_{k=1}^{K} \\hat\\pi_k P(x|\\hat\\theta_k)}\n",
    "$$\n",
    "\n",
    "Then the predicted class can be obtained by Maximum A Posteriori (MAP)\n",
    "\n",
    "$$\n",
    "\\hat y = \\arg\\max_{k \\in \\{1, ..., K \\}} P(y=k|x, \\hat\\theta)\n",
    "$$\n",
    "\n",
    " \n",
    "## Discussion \n",
    "\n",
    "The model make stong assumptions, i.e. models the distribution of $(x,y)$, where only the distribution of $y|x$ or even only the decision boundary is needed to make prediction. \n",
    "\n",
    "Thus this leds to model miss-specification which may degrade the performance of the final classifier. However such kind of model can still work well with moderate sample size and high number of variables. See for instance [1]\n",
    "\n",
    "[1] Hand, D. J., & Yu, K. (2001). Idiot's Bayes—not so stupid after all?. International statistical review, 69(3), 385-398.\n",
    "\n",
    "\n",
    "\n"
   ]
  },
  {
   "cell_type": "markdown",
   "id": "85f1c299-61d8-4ed6-a10e-207b21826258",
   "metadata": {},
   "source": []
  },
  {
   "cell_type": "markdown",
   "id": "8157aa0a-fe23-4342-9289-30959038b09f",
   "metadata": {},
   "source": [
    "# 1. Naive Bayes in sklearn\n",
    "\n",
    "More information can be found on :\n",
    "\n",
    "https://scikit-learn.org/stable/modules/naive_bayes.html\n",
    "\n",
    "The main functions are :\n",
    "- `GaussianNB` : Naive Bayes for continuous features using Gaussian assumption\n",
    "- `BernoulliNB` : Naive Bayes classifier for multivariate Bernoulli models.\n",
    "- `CategoricalNB` : Naive Bayes classifier for categorical features.\n",
    "- `MultinomialNB` : Naive Bayes classifier for multinomial models.\n",
    "- `ComplementNB` : Complement Naive Bayes classifier.\n",
    "\n",
    "For mixed-type of features there is not dedicated function in sklearn, but continous features can for instances be discretized in order to use `ComplementNB` on the discretized dataset."
   ]
  },
  {
   "cell_type": "markdown",
   "id": "16f6246c-756e-4649-aec9-80f1db8300ad",
   "metadata": {},
   "source": [
    "**Q1** : By looking at the documentation explain the differences between `BernoulliNB`, `CategoricalNB` and `MultinomialNB`"
   ]
  },
  {
   "cell_type": "markdown",
   "id": "21541f44-4f08-4abe-b160-14264aea2676",
   "metadata": {},
   "source": [
    "- **BernoulliNB** =  when the \n",
    "- CategoricalNB \n",
    "- **MultinomialNB**  =  The multinomial Naive Bayes classifier is suitable for classification with discrete features (e.g., word counts for text classification). The multinomial distribution normally requires integer feature counts. "
   ]
  },
  {
   "cell_type": "markdown",
   "id": "c1ab1550-e29a-4edd-a5e0-e77d4e7ef624",
   "metadata": {},
   "source": [
    "## Continuous features"
   ]
  },
  {
   "cell_type": "code",
   "execution_count": 1,
   "id": "46396d53-2c74-4fcb-b51f-a4498c7d4c69",
   "metadata": {
    "tags": []
   },
   "outputs": [],
   "source": [
    "%matplotlib inline\n",
    "#necessary imports\n",
    "import time\n",
    "import matplotlib.pyplot as plt\n",
    "import numpy as np\n",
    "from random import randint\n",
    "from sklearn import datasets\n",
    "from sklearn.model_selection import train_test_split\n",
    "from sklearn.linear_model import LogisticRegression\n",
    "from sklearn.metrics import accuracy_score, recall_score, f1_score, ConfusionMatrixDisplay\n",
    "from sklearn.preprocessing import StandardScaler"
   ]
  },
  {
   "cell_type": "code",
   "execution_count": 2,
   "id": "2f5f96d1-a408-4df4-8b21-6327867fa948",
   "metadata": {
    "tags": []
   },
   "outputs": [],
   "source": [
    "# loading the dataset\n",
    "iris = datasets.load_iris()\n",
    "X = iris.data\n",
    "y = iris.target"
   ]
  },
  {
   "cell_type": "markdown",
   "id": "90cffdba-d34b-4f70-83e6-c4e6c5edb0bd",
   "metadata": {},
   "source": [
    "**Q2**: Apply the `GaussianNB` to train the model on the iris dataset"
   ]
  },
  {
   "cell_type": "code",
   "execution_count": 3,
   "id": "0fc2c87f-1a21-4509-a97b-fa97087ea372",
   "metadata": {
    "tags": []
   },
   "outputs": [],
   "source": [
    "from sklearn.naive_bayes import GaussianNB\n",
    "X_train, X_test, y_train, y_test = train_test_split(X, y, test_size=0.5, random_state=0)\n",
    "\n",
    "from sklearn.preprocessing import StandardScaler\n",
    "sc = StandardScaler()\n",
    "X_train = sc.fit_transform(X_train)\n",
    "X_test = sc.transform(X_test)\n",
    "\n"
   ]
  },
  {
   "cell_type": "code",
   "execution_count": null,
   "id": "02ce6918-9454-4a4f-bf68-00476c18b61c",
   "metadata": {
    "tags": []
   },
   "outputs": [],
   "source": []
  },
  {
   "cell_type": "code",
   "execution_count": 20,
   "id": "5bebd3d3-1c06-4ff0-889f-6a7d97aa30e9",
   "metadata": {
    "tags": []
   },
   "outputs": [
    {
     "name": "stdout",
     "output_type": "stream",
     "text": [
      "Number of mislabeled points out of a total 30 points : 3\n"
     ]
    }
   ],
   "source": [
    "classifier = GaussianNB()\n",
    "classifier.fit(X_train, y_train)\n",
    "y_pred = classifier.predict(X_test)\n",
    "print(\"Number of mislabeled points out of a total %d points : %d\" % (X_test.shape[0], (y_test != y_pred).sum()))"
   ]
  },
  {
   "cell_type": "code",
   "execution_count": 21,
   "id": "9ee118cb-42d5-4fcf-88fe-824847c17d7a",
   "metadata": {
    "tags": []
   },
   "outputs": [
    {
     "data": {
      "text/plain": [
       "<Axes: >"
      ]
     },
     "execution_count": 21,
     "metadata": {},
     "output_type": "execute_result"
    },
    {
     "data": {
      "image/png": "[encoded data removed]",
      "text/plain": [
       "<Figure size 640x480 with 2 Axes>"
      ]
     },
     "metadata": {},
     "output_type": "display_data"
    }
   ],
   "source": [
    "import seaborn as sns\n",
    "from sklearn.metrics import confusion_matrix\n",
    "cm = confusion_matrix(y_test, y_pred)\n",
    "sns.heatmap(cm, annot=True)"
   ]
  },
  {
   "cell_type": "code",
   "execution_count": null,
   "id": "c365c792-98ad-42df-b2b5-0f33fbc32fdc",
   "metadata": {
    "tags": []
   },
   "outputs": [],
   "source": []
  },
  {
   "cell_type": "markdown",
   "id": "1b32379f-f01d-45ab-b278-f6f926041b01",
   "metadata": {},
   "source": [
    "**Q3**: Let consider the following functions\n",
    "- `predict_joint_log_proba(X)`\n",
    "- `predict_log_proba(X)`\n",
    "- `predict_proba(X)`\n",
    "\n",
    "(a) Explain what the above functions do and illustrate it on the iris dataset\n",
    "\n",
    "(b) Explain the use of making use of the log instead of directly computing the probability"
   ]
  },
  {
   "cell_type": "code",
   "execution_count": 24,
   "id": "e92fe6a6-0b3d-4fbd-b3e9-e626b2667dc3",
   "metadata": {
    "tags": []
   },
   "outputs": [],
   "source": [
    "#  log is used for stabiliy of the equation \n",
    "#  log of pdf of gaussian is simple to calculate  "
   ]
  },
  {
   "cell_type": "markdown",
   "id": "c768e5fa-523a-4d6d-9ee9-bcf65216c53c",
   "metadata": {},
   "source": [
    "- **predict_joint_log_proba(X)** \n",
    "\n",
    "n*c array \n",
    "\n",
    "- **predict_log_proba(X)**\n",
    "\n",
    "\n",
    "- **predict_proba(X)**\n",
    "\n"
   ]
  },
  {
   "cell_type": "markdown",
   "id": "4552d1cf-abe8-4359-9d2e-4fe0b4c3be85",
   "metadata": {},
   "source": []
  },
  {
   "cell_type": "code",
   "execution_count": null,
   "id": "c60d63c4-ef4a-4e39-a1f3-f5e841642aff",
   "metadata": {},
   "outputs": [],
   "source": []
  },
  {
   "cell_type": "code",
   "execution_count": 11,
   "id": "393c59fd-0c0b-464b-97eb-47f308194cdc",
   "metadata": {
    "tags": []
   },
   "outputs": [
    {
     "data": {
      "text/plain": [
       "(75, 3)"
      ]
     },
     "execution_count": 11,
     "metadata": {},
     "output_type": "execute_result"
    }
   ],
   "source": [
    "classifier.predict_joint_log_proba(X_test).shape"
   ]
  },
  {
   "cell_type": "code",
   "execution_count": 14,
   "id": "5f1a29a3-5be0-4d09-9df5-39892c05d1b6",
   "metadata": {
    "tags": []
   },
   "outputs": [
    {
     "data": {
      "text/plain": [
       "array([[-243.16771957,   -3.97918268,  -23.90835342],\n",
       "       [  -2.69379888,  -43.46037269,  -77.87856521],\n",
       "       [-892.74933949,  -16.68879594,   -3.56188002],\n",
       "       [   1.29705871,  -33.20673688,  -72.89496189]])"
      ]
     },
     "execution_count": 14,
     "metadata": {},
     "output_type": "execute_result"
    }
   ],
   "source": [
    "classifier.predict_joint_log_proba(X_test)[1:5]"
   ]
  },
  {
   "cell_type": "code",
   "execution_count": 15,
   "id": "61b90d4b-6c27-4567-bfad-d1458325b681",
   "metadata": {
    "tags": []
   },
   "outputs": [
    {
     "data": {
      "text/plain": [
       "array([[-2.39188537e+02, -2.21243779e-09, -1.99291707e+01],\n",
       "       [ 0.00000000e+00, -4.07665738e+01, -7.51847663e+01],\n",
       "       [-8.89187461e+02, -1.31269179e+01, -1.99091363e-06],\n",
       "       [-1.11022302e-15, -3.45037956e+01, -7.41920206e+01]])"
      ]
     },
     "execution_count": 15,
     "metadata": {},
     "output_type": "execute_result"
    }
   ],
   "source": [
    "classifier.predict_log_proba(X_test)[1:5]"
   ]
  },
  {
   "cell_type": "code",
   "execution_count": 17,
   "id": "480043d0-cbee-4b3c-a065-ccb8556a484c",
   "metadata": {
    "tags": []
   },
   "outputs": [
    {
     "data": {
      "text/plain": [
       "array([[1.32354372e-104, 9.99999998e-001, 2.21243804e-009],\n",
       "       [1.00000000e+000, 1.97379457e-018, 2.22674692e-033],\n",
       "       [0.00000000e+000, 1.99091165e-006, 9.99998009e-001],\n",
       "       [1.00000000e+000, 1.03559983e-015, 6.00917501e-033]])"
      ]
     },
     "execution_count": 17,
     "metadata": {},
     "output_type": "execute_result"
    }
   ],
   "source": [
    "classifier.predict_proba(X_test)[1:5]"
   ]
  },
  {
   "cell_type": "markdown",
   "id": "3824b6e1-8179-489b-8e27-1b8367bf1ac6",
   "metadata": {},
   "source": [
    "**Q3bis** : Have a look at some basic implementation of the Naive Bayes algorithm \n",
    "\n",
    "https://www.python-engineer.com/courses/mlfromscratch/05_naivebayes/\n",
    "\n",
    "(a) Complete the code in order to compute the posterior membership probabilities (and not only the class with the highest posterior probability)\n",
    "\n",
    "(b) Also consider directly compute the log of the pdf rather than the pdf for numerical stability\n",
    "\n",
    "(c) What modification should you consider to consider categorical features?\n",
    "\n",
    "(d) Give some ideas of how it would be possible to consider mixed type of data. "
   ]
  },
  {
   "cell_type": "code",
   "execution_count": null,
   "id": "2608aad0-a056-4e6a-a29b-a6f0dfe380df",
   "metadata": {},
   "outputs": [],
   "source": []
  },
  {
   "cell_type": "code",
   "execution_count": null,
   "id": "2bb96ee7-7ef5-4e24-93b2-c9e6226354f9",
   "metadata": {},
   "outputs": [],
   "source": []
  },
  {
   "cell_type": "code",
   "execution_count": null,
   "id": "9d0c1f6c-0388-43b8-956b-6450c8052dc2",
   "metadata": {},
   "outputs": [],
   "source": []
  },
  {
   "cell_type": "code",
   "execution_count": 25,
   "id": "bafaf5b3-01b8-4370-895e-af6141e3d48e",
   "metadata": {
    "tags": []
   },
   "outputs": [],
   "source": [
    "# (b) Also consider directly compute the log of the pdf rather than the pdf for numerical stability\n",
    "\n",
    "# (c) What modification should you consider to consider categorical features?\n",
    "\n",
    "# (d) Give some ideas of how it would be possible to consider mixed type of data.\n"
   ]
  },
  {
   "cell_type": "code",
   "execution_count": null,
   "id": "3140957b-317e-47d9-9499-455913b4b88a",
   "metadata": {},
   "outputs": [],
   "source": []
  },
  {
   "cell_type": "code",
   "execution_count": null,
   "id": "18311926-b910-4faa-8570-c169ada6612e",
   "metadata": {},
   "outputs": [],
   "source": []
  },
  {
   "cell_type": "markdown",
   "id": "d8612594-df92-46f3-9dab-0c32bcd2d9fb",
   "metadata": {},
   "source": [
    "## Categorical features"
   ]
  },
  {
   "cell_type": "markdown",
   "id": "b4e7066a-8cfc-49c0-860a-e3ffeb408543",
   "metadata": {},
   "source": [
    "**Q4**: Use `KBinsDiscretizer` of `sklearn.preprocessing` in order to discrtize the iris data with `n_bins=2`, then train a naive bayes classifier in this discretized dataset"
   ]
  },
  {
   "cell_type": "code",
   "execution_count": null,
   "id": "ca97dc9a-0596-4fa0-b4b9-646aa345103a",
   "metadata": {},
   "outputs": [],
   "source": []
  },
  {
   "cell_type": "code",
   "execution_count": null,
   "id": "c0d493e8-c269-43c3-ac85-2866f4636af0",
   "metadata": {},
   "outputs": [],
   "source": []
  },
  {
   "cell_type": "markdown",
   "id": "bb503b9d-2c6b-481d-8676-9e38699eb9c1",
   "metadata": {},
   "source": [
    "**Q5**: Idem but with `n_bins = 3`"
   ]
  },
  {
   "cell_type": "code",
   "execution_count": null,
   "id": "ed2786fc-4089-476d-ad5b-68b73dab8910",
   "metadata": {},
   "outputs": [],
   "source": []
  },
  {
   "cell_type": "code",
   "execution_count": null,
   "id": "ef30a013-f35b-4bab-aeb8-3ed894d170fd",
   "metadata": {},
   "outputs": [],
   "source": []
  },
  {
   "cell_type": "markdown",
   "id": "6f103385-22fc-4b69-ac8f-ee77fa9ffe6e",
   "metadata": {},
   "source": [
    "**Q6**: Compare the performances of the different approches"
   ]
  },
  {
   "cell_type": "code",
   "execution_count": null,
   "id": "33e2ca73-951e-4202-8f84-6df608cc0361",
   "metadata": {},
   "outputs": [],
   "source": []
  },
  {
   "cell_type": "code",
   "execution_count": null,
   "id": "cdffec52-89c5-4bd0-948f-baf6fa272569",
   "metadata": {},
   "outputs": [],
   "source": []
  },
  {
   "cell_type": "markdown",
   "id": "1b57b3e2-d5ee-4999-9153-a719af33a59c",
   "metadata": {},
   "source": [
    "## Application on the MNIST dataset"
   ]
  },
  {
   "cell_type": "markdown",
   "id": "6dc362d6-b032-48ca-9d81-4e9532f6d666",
   "metadata": {},
   "source": [
    "**Q7**: Apply the Naive Bayes classifier on the MNIST dataset and comment its performances"
   ]
  },
  {
   "cell_type": "code",
   "execution_count": null,
   "id": "5e1a0dad-a9b3-4b6e-9a9e-54e29516d00b",
   "metadata": {},
   "outputs": [],
   "source": []
  },
  {
   "cell_type": "code",
   "execution_count": null,
   "id": "46806e1d-6cfd-4f40-9e20-e73c172aa8c0",
   "metadata": {},
   "outputs": [],
   "source": []
  },
  {
   "cell_type": "markdown",
   "id": "f4517cab-2b5d-413b-9e92-a2854d010e9b",
   "metadata": {},
   "source": [
    "## 2. Linear and quadratic discriminant analysis\n",
    "\n",
    "The model now considered is not the naives Bayes, since it does not any more the assumption of conditional independence. It is however still a generative classifier since it models the distribution of $(x,y)$ then it deduce the distribution of $y|x$ using the Bayes theorem. \n",
    "\n",
    "More information can be found on : \n",
    "\n",
    "https://scikit-learn.org/stable/modules/generated/sklearn.discriminant_analysis.LinearDiscriminantAnalysis.html\n",
    "\n",
    "https://scikit-learn.org/stable/modules/generated/sklearn.discriminant_analysis.QuadraticDiscriminantAnalysis.html\n",
    "\n",
    "The **linear discriminant analysis** assumes multivariate Gaussian distribution in each class, and moreover the covariance matrices are assumed to be the same in each class: \n",
    "$$\n",
    "x | y = k \\sim \\mathcal{N}(\\mu_k , \\Sigma)\n",
    "$$\n",
    "This results in a linear decision boundary. \n",
    "\n",
    "\n",
    "The **quadratic discriminant analysis** assumes multivariate Gaussian distribution in each class, and moreover the covariance matrices are assumed to be the same in each class: \n",
    "$$\n",
    "x | y = k \\sim \\mathcal{N}(\\mu_k , \\Sigma_k).\n",
    "$$\n",
    "This results in a quadratic decision boundary.\n",
    "\n",
    "**Remarks** : \n",
    "\n",
    "- Linear discriminant analysis can also be used for dimension reduction by looking for the most discriminant components (K-1 discriminant components if $K$ classes are considered) \n",
    "- In high dimensional setting the `shrinkage` parameter can be used in order to regularize the estimator of the covariance matrix, for example of the kind $(1-\\alpha)\\hat\\Sigma + \\alpha I$\n",
    "\n"
   ]
  },
  {
   "cell_type": "markdown",
   "id": "df583830-fc15-4a9e-baf7-e96389fadf49",
   "metadata": {},
   "source": [
    "**Q8** : Fit a linear discriminant analysis on the MNIST dataset, try to optimize the value of the shrinkage parameter"
   ]
  },
  {
   "cell_type": "code",
   "execution_count": null,
   "id": "a56e2f88-21c4-49d5-9e61-160d6f8b8500",
   "metadata": {},
   "outputs": [],
   "source": []
  },
  {
   "cell_type": "code",
   "execution_count": null,
   "id": "03cc2a7a-8778-43de-aeaf-4651d18f6e93",
   "metadata": {},
   "outputs": [],
   "source": []
  }
 ],
 "metadata": {
  "kernelspec": {
   "display_name": "Python 3 (ipykernel)",
   "language": "python",
   "name": "python3"
  },
  "language_info": {
   "codemirror_mode": {
    "name": "ipython",
    "version": 3
   },
   "file_extension": ".py",
   "mimetype": "text/x-python",
   "name": "python",
   "nbconvert_exporter": "python",
   "pygments_lexer": "ipython3",
   "version": "3.11.5"
  }
 },
 "nbformat": 4,
 "nbformat_minor": 5
}
