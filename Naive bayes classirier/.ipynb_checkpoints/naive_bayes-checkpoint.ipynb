{
 "cells": [
  {
   "cell_type": "markdown",
   "id": "ed5c9f64",
   "metadata": {},
   "source": [
    "# PRABAL GHOSH"
   ]
  },
  {
   "cell_type": "markdown",
   "id": "9e2aa848",
   "metadata": {},
   "source": [
    "# LAB - NAIVE BAYES"
   ]
  },
  {
   "cell_type": "markdown",
   "id": "2ae4d087-0984-478c-8761-103f42756a01",
   "metadata": {
    "tags": []
   },
   "source": [
    "# The naive Bayes classifier\n",
    "\n",
    "## Introduction\n",
    "\n",
    "A supervised classification method, with a lot of assumptions ..., but well adapted to high dimensional data with moderate sample size. \n",
    "\n",
    "As reminder:\n",
    "- logistic regression puts a model on $P(y|x)$ and estimates the parameters by minimizing the cross-entropy loss\n",
    "- SVM puts a model only on the classification boundary and research the separating hyperplane with largest margin \n",
    "\n",
    "Another philosophy is to consider a generative model on data distribution, i.e. model $P(x,y)$ by writting $P(x,y) = P(y)P(x|y)$. Thus it is only needed to estimate $P(x|y)$ for each possible value of $y$ (multivariate gaussian distribution, multivariate multinomial distribution, ...), and also $P(y)$ the prior probabilities (typically simply the proportion of each class). Then the posterior probability $P(y|x)$ can be computed by using the **Bayes theorem**: \n",
    "\n",
    "$$\n",
    "P(y|x) = \\frac{P(y)P(x|y)}{P(x)} = \\frac{P(y)P(x|y)}{\\sum_{k=1}^{K} P(y=k) P(x|y=k)}\n",
    "$$\n",
    "\n",
    "\n",
    "## The model\n",
    "\n",
    "Let assume that $x \\in \\mathcal{X}$ : \n",
    "- **Continuous features**: $\\mathcal{X}=\\mathcal{R}^d$, $P(x|y=k)$ is modeled by a multivariate density.\n",
    "- **Categorical features**: $\\mathcal{X}=\\prod_{j=1}^{d}\\{1, ..., m_j\\}$, $P(x|y=k)$ is modeled by a multivariate probability.\n",
    "- Also possible **mixed data**: both continuous and categorical\n",
    "\n",
    "**Question**: What model use for $P(x|y=k)$?\n",
    "\n",
    "**Some ideas**:\n",
    "- Multivariate normal distribution (need only to estimate the vector of expectations and the variance covariance matrix) \n",
    "- Mixture of multivariate normal distribution for more flexibility\n",
    "- Not so many models for categorical data ... \n",
    "\n",
    "**The Naives assumtion**:\n",
    "$$\n",
    "P(x|y=k) = P(x_1, \\ldots, x_d |y=k) = \\prod_{j=1}^{d} P(x_j|y=k),\n",
    "$$ \n",
    "\n",
    "It assumes that all the variables are independant given the class. \n",
    "\n",
    "- Avoid to model dependency! \n",
    "- Only need to model $P(x_j|y=k)$ by a univariate distribution\n",
    "    - univariate discrete probability distribution for categorical variables (multinomial, Poisson, ...) \n",
    "    - univariate probability density function (normal, Student, Gamma, exponential, ...)\n",
    "\n",
    "\n",
    "Let assume that $P(x_j|y=k)$ belong to some parametric family we will denote  $P(x_j|y=k) := P(x_j|\\theta_{kj})$  where $\\theta_{kj}$ are the paramters of the distribution of variable $j$ in class $k$:\n",
    "- $\\theta_{kj} = (\\mu_{kj} , \\sigma_{kj}^2)$ for a Gaussian distribution\n",
    "- $\\theta_{kj} = (\\alpha_{kj1}, ..., \\alpha_{kjm_{j}})$ for a multinomial distribution where $\\alpha_{kjh}$ is the probability of the model $h$ of variable $j$ in class $k$\n",
    "\n",
    "\n",
    "## Parameters estimation\n",
    "\n",
    "Parameters are estimated by maximum likelihood as in statistical inference!\n",
    "\n",
    "Let $\\theta_k = (\\theta_{k1}, ..., \\theta_{kd})$ that groups all the parameter of class $k$, let also denote by $\\pi_k = P(y=k)$ the prior probability of class which also need to be estimated. \n",
    "\n",
    "Let denote by $\\theta = (\\pi_1, ..., \\pi_K, \\theta_1, \\ldots, \\theta_K)$ that groups all the paramters of the model \n",
    "\n",
    "The likelihood is: \n",
    "$$\n",
    "\\ell(\\theta) = \\sum_{k=1}^{K} \\sum_{i \\in \\mathcal{C}_k} \\log (\\pi_k P(x_i | \\theta_k))\n",
    "$$\n",
    "with $\\mathcal{C}_k$ the set of data points belonging to class $k$\n",
    "\n",
    "\n",
    "**Estimation of the prior probabilities**\n",
    "\n",
    "For all $k \\in \\{1, ..., K \\}$\n",
    "$$\n",
    "\\hat \\pi_k = \\frac{n_k}{n}\n",
    "$$\n",
    "with $n_k$ the number of data in class $k$, among the total of $n$ data. \n",
    "\n",
    "*Remark*: This can depend on the sampling scheme, for instance in the medical setting we can consider restrospective sampling, i.e. fix by advance the proportion of each class in the training data, for instance for rare diseases have the same number of patient with and without the disease in the cohort. In this case the user can give manually the proportion of each class in the whole population.  \n",
    "\n",
    "\n",
    "**Gaussian distribution**\n",
    "For $k \\in \\{1, ..., K\\}$, $j \\in \\{1,...,d\\}$\n",
    "$$\n",
    "\\hat\\mu_{kj} = \\frac{\\sum_{i \\in \\mathcal{C}_k} x_{ij}}{n_k}\n",
    "$$\n",
    "\n",
    "$$\n",
    "\\hat\\sigma_{kj}^2 = \\frac{\\sum_{i \\in \\mathcal{C}_k} (x_{ij}-\\hat\\mu_{kj})^2}{n_k}\n",
    "$$\n",
    "\n",
    "\n",
    "**Multinomial distribution**\n",
    "For $k \\in \\{1, ..., K\\}$, $j \\in \\{1,...,d\\}$ and $h \\in \\{1,...,m_j\\}$\n",
    "$$\n",
    "\\hat\\alpha_{kjh} = \\frac{n_{kjh}}{n_k}\n",
    "$$\n",
    "with $n_{kjh}$ the number of times that modality $h$ of variable $j$ has been observed in class $k$.\n",
    "\n",
    "*Remark*: Regularized version of the estimators can be consider to avoid to estimate some $\\hat\\alpha_{kjh}$ to $0$. For instance $\\hat\\alpha_{kjh} = \\frac{n_{kjh} + c}{n_k + c m_j}$ where $c>0$ is some regularization parameter.\n",
    "\n",
    "\n",
    "## Prediction of the class for new data\n",
    "\n",
    "Based on $\\hat\\theta$, it is possible to compute $\\forall k \\in \\{1, ..., K\\}$:\n",
    "$$\n",
    "P(y=k|x, \\hat\\theta) = \\frac{\\hat\\pi_k P(x|\\hat\\theta_k)}{\\sum_{k=1}^{K} \\hat\\pi_k P(x|\\hat\\theta_k)}\n",
    "$$\n",
    "\n",
    "Then the predicted class can be obtained by Maximum A Posteriori (MAP)\n",
    "\n",
    "$$\n",
    "\\hat y = \\arg\\max_{k \\in \\{1, ..., K \\}} P(y=k|x, \\hat\\theta)\n",
    "$$\n",
    "\n",
    " \n",
    "## Discussion \n",
    "\n",
    "The model make stong assumptions, i.e. models the distribution of $(x,y)$, where only the distribution of $y|x$ or even only the decision boundary is needed to make prediction. \n",
    "\n",
    "Thus this leds to model miss-specification which may degrade the performance of the final classifier. However such kind of model can still work well with moderate sample size and high number of variables. See for instance [1]\n",
    "\n",
    "[1] Hand, D. J., & Yu, K. (2001). Idiot's Bayes—not so stupid after all?. International statistical review, 69(3), 385-398.\n",
    "\n",
    "\n",
    "\n"
   ]
  },
  {
   "cell_type": "markdown",
   "id": "85f1c299-61d8-4ed6-a10e-207b21826258",
   "metadata": {},
   "source": []
  },
  {
   "cell_type": "markdown",
   "id": "8157aa0a-fe23-4342-9289-30959038b09f",
   "metadata": {},
   "source": [
    "# 1. Naive Bayes in sklearn\n",
    "\n",
    "More information can be found on :\n",
    "\n",
    "https://scikit-learn.org/stable/modules/naive_bayes.html\n",
    "\n",
    "The main functions are :\n",
    "- `GaussianNB` : Naive Bayes for continuous features using Gaussian assumption\n",
    "- `BernoulliNB` : Naive Bayes classifier for multivariate Bernoulli models.\n",
    "- `CategoricalNB` : Naive Bayes classifier for categorical features.\n",
    "- `MultinomialNB` : Naive Bayes classifier for multinomial models.\n",
    "- `ComplementNB` : Complement Naive Bayes classifier.\n",
    "\n",
    "For mixed-type of features there is not dedicated function in sklearn, but continous features can for instances be discretized in order to use `ComplementNB` on the discretized dataset."
   ]
  },
  {
   "cell_type": "markdown",
   "id": "16f6246c-756e-4649-aec9-80f1db8300ad",
   "metadata": {},
   "source": [
    "**Q1** : By looking at the documentation explain the differences between `BernoulliNB`, `CategoricalNB` and `MultinomialNB`"
   ]
  },
  {
   "cell_type": "markdown",
   "id": "21541f44-4f08-4abe-b160-14264aea2676",
   "metadata": {},
   "source": [
    "- **BernoulliNB** =  BernoulliNB implements the naive Bayes training and classification algorithms for data that is distributed according to multivariate Bernoulli distributions; i.e., there may be multiple features but each one is assumed to be a binary-valued (Bernoulli, boolean) variable. Therefore, this class requires samples to be represented as binary-valued feature vectors; if handed any other kind of data, a BernoulliNB instance may binarize its input (depending on the binarize parameter).\n",
    "\n",
    "- **CategoricalNB** = The categorical Naive Bayes classifier is suitable for classification with discrete features that are categorically distributed. The categories of each feature are drawn from a categorical distribution.\n",
    "\n",
    "\n",
    "\n",
    "- **MultinomialNB**  =  The multinomial Naive Bayes classifier is suitable for classification with discrete features (e.g., word counts for text classification). The multinomial distribution normally requires integer feature counts. "
   ]
  },
  {
   "cell_type": "markdown",
   "id": "c1ab1550-e29a-4edd-a5e0-e77d4e7ef624",
   "metadata": {},
   "source": [
    "## Continuous features"
   ]
  },
  {
   "cell_type": "code",
   "execution_count": 7,
   "id": "46396d53-2c74-4fcb-b51f-a4498c7d4c69",
   "metadata": {
    "tags": []
   },
   "outputs": [],
   "source": [
    "%matplotlib inline\n",
    "#necessary imports\n",
    "import time\n",
    "import matplotlib.pyplot as plt\n",
    "import numpy as np\n",
    "from random import randint\n",
    "from sklearn import datasets\n",
    "from sklearn.model_selection import train_test_split\n",
    "from sklearn.linear_model import LogisticRegression\n",
    "from sklearn.metrics import accuracy_score, recall_score, f1_score, ConfusionMatrixDisplay\n",
    "from sklearn.preprocessing import StandardScaler"
   ]
  },
  {
   "cell_type": "code",
   "execution_count": 8,
   "id": "2f5f96d1-a408-4df4-8b21-6327867fa948",
   "metadata": {
    "tags": []
   },
   "outputs": [],
   "source": [
    "# loading the dataset\n",
    "iris = datasets.load_iris()\n",
    "X = iris.data\n",
    "y = iris.target"
   ]
  },
  {
   "cell_type": "markdown",
   "id": "90cffdba-d34b-4f70-83e6-c4e6c5edb0bd",
   "metadata": {},
   "source": [
    "**Q2**: Apply the `GaussianNB` to train the model on the iris dataset"
   ]
  },
  {
   "cell_type": "code",
   "execution_count": 9,
   "id": "0fc2c87f-1a21-4509-a97b-fa97087ea372",
   "metadata": {
    "tags": []
   },
   "outputs": [],
   "source": [
    "from sklearn.naive_bayes import GaussianNB\n",
    "X_train, X_test, y_train, y_test = train_test_split(X, y, test_size=0.5, random_state=0)\n",
    "\n",
    "from sklearn.preprocessing import StandardScaler\n",
    "sc = StandardScaler()\n",
    "X_train = sc.fit_transform(X_train)\n",
    "X_test = sc.transform(X_test)\n",
    "\n"
   ]
  },
  {
   "cell_type": "code",
   "execution_count": null,
   "id": "02ce6918-9454-4a4f-bf68-00476c18b61c",
   "metadata": {
    "tags": []
   },
   "outputs": [],
   "source": []
  },
  {
   "cell_type": "code",
   "execution_count": 10,
   "id": "5bebd3d3-1c06-4ff0-889f-6a7d97aa30e9",
   "metadata": {
    "tags": []
   },
   "outputs": [
    {
     "name": "stdout",
     "output_type": "stream",
     "text": [
      "Number of mislabeled points out of a total 75 points : 4\n"
     ]
    }
   ],
   "source": [
    "classifier = GaussianNB()\n",
    "classifier.fit(X_train, y_train)\n",
    "y_pred = classifier.predict(X_test)\n",
    "print(\"Number of mislabeled points out of a total %d points : %d\" % (X_test.shape[0], (y_test != y_pred).sum()))"
   ]
  },
  {
   "cell_type": "markdown",
   "id": "1646cb33",
   "metadata": {},
   "source": [
    "- **class_prior_** attribute represents the prior probability of each class. These are the probabilities assumed for the classes in the absence of any input features"
   ]
  },
  {
   "cell_type": "code",
   "execution_count": 11,
   "id": "fdfc1c90-3579-4817-8aec-41ad34715e4a",
   "metadata": {
    "tags": []
   },
   "outputs": [
    {
     "name": "stdout",
     "output_type": "stream",
     "text": [
      "mean [0.38666667 0.26666667 0.34666667]\n"
     ]
    }
   ],
   "source": [
    "print(\"mean\",classifier.class_prior_)"
   ]
  },
  {
   "cell_type": "markdown",
   "id": "280b341e",
   "metadata": {},
   "source": [
    "**here  classes so we got  different prior probability  for classes**"
   ]
  },
  {
   "cell_type": "code",
   "execution_count": 12,
   "id": "ffde3ac2-7f27-4c2e-9b5e-935003488c3e",
   "metadata": {
    "tags": []
   },
   "outputs": [
    {
     "name": "stdout",
     "output_type": "stream",
     "text": [
      "mean [[-0.9613413   0.63460144 -1.16137032 -1.13224244]\n",
      " [ 0.08628871 -0.91698259  0.2730818   0.16009988]\n",
      " [ 1.00588937 -0.00245347  1.08531167  1.13973204]]\n"
     ]
    }
   ],
   "source": [
    "print(\"mean\",classifier.theta_)"
   ]
  },
  {
   "cell_type": "markdown",
   "id": "a957fe13",
   "metadata": {},
   "source": [
    "- **theta_** attribute represents the empirical log probability of features given a class, estimated from the training data. Each row corresponds to a class, and each column corresponds to a feature.\n",
    "- This will print the mean of theta_ values for each feature and each class in your trained Naive Bayes classifier."
   ]
  },
  {
   "cell_type": "code",
   "execution_count": null,
   "id": "212f9e15",
   "metadata": {},
   "outputs": [],
   "source": []
  },
  {
   "cell_type": "code",
   "execution_count": 13,
   "id": "5b730788-cc0b-435a-9462-0a1957ede811",
   "metadata": {
    "scrolled": true,
    "tags": []
   },
   "outputs": [
    {
     "data": {
      "text/plain": [
       "array([[0.12313385, 0.75580348, 0.00447543, 0.01245427],\n",
       "       [0.30574543, 0.47437691, 0.07013235, 0.06766935],\n",
       "       [0.46373116, 0.58069278, 0.08600022, 0.07007181]])"
      ]
     },
     "execution_count": 13,
     "metadata": {},
     "output_type": "execute_result"
    }
   ],
   "source": [
    "classifier.var_"
   ]
  },
  {
   "cell_type": "markdown",
   "id": "a4b8baba",
   "metadata": {},
   "source": [
    "- **var_** attribute represents the variance of each feature per class. This attribute is typically used for the calculation of the smoothing parameter in the Naive Bayes model.\n",
    "-  This will print the variances of each feature for each class in your trained Naive Bayes classifier."
   ]
  },
  {
   "cell_type": "code",
   "execution_count": null,
   "id": "e56691b9",
   "metadata": {},
   "outputs": [],
   "source": []
  },
  {
   "cell_type": "code",
   "execution_count": 14,
   "id": "9ee118cb-42d5-4fcf-88fe-824847c17d7a",
   "metadata": {
    "tags": []
   },
   "outputs": [
    {
     "data": {
      "text/plain": [
       "<Axes: >"
      ]
     },
     "execution_count": 14,
     "metadata": {},
     "output_type": "execute_result"
    },
    {
     "data": {
      "image/png": "[encoded data removed]",
      "text/plain": [
       "<Figure size 640x480 with 2 Axes>"
      ]
     },
     "metadata": {},
     "output_type": "display_data"
    }
   ],
   "source": [
    "import seaborn as sns\n",
    "from sklearn.metrics import confusion_matrix\n",
    "cm = confusion_matrix(y_test, y_pred)\n",
    "sns.heatmap(cm, annot=True)"
   ]
  },
  {
   "cell_type": "code",
   "execution_count": 15,
   "id": "c365c792-98ad-42df-b2b5-0f33fbc32fdc",
   "metadata": {
    "tags": []
   },
   "outputs": [
    {
     "name": "stdout",
     "output_type": "stream",
     "text": [
      "Accuracy: 0.9466666666666667\n"
     ]
    }
   ],
   "source": [
    "accuracy = classifier.score(X_test, y_test)\n",
    "print(\"Accuracy:\", accuracy)"
   ]
  },
  {
   "cell_type": "code",
   "execution_count": null,
   "id": "48bd4bf7-c4e5-4e01-9419-45daca63b510",
   "metadata": {
    "tags": []
   },
   "outputs": [],
   "source": []
  },
  {
   "cell_type": "markdown",
   "id": "1b32379f-f01d-45ab-b278-f6f926041b01",
   "metadata": {},
   "source": [
    "**Q3**: Let consider the following functions\n",
    "- `predict_joint_log_proba(X)`\n",
    "- `predict_log_proba(X)`\n",
    "- `predict_proba(X)`\n",
    "\n",
    "(a) Explain what the above functions do and illustrate it on the iris dataset\n",
    "\n",
    "(b) Explain the use of making use of the log instead of directly computing the probability"
   ]
  },
  {
   "cell_type": "code",
   "execution_count": 23,
   "id": "e92fe6a6-0b3d-4fbd-b3e9-e626b2667dc3",
   "metadata": {
    "tags": []
   },
   "outputs": [],
   "source": [
    "#  log is used for stabiliy of the equation \n",
    "#  log of pdf of gaussian is simple to calculate  "
   ]
  },
  {
   "cell_type": "markdown",
   "id": "c768e5fa-523a-4d6d-9ee9-bcf65216c53c",
   "metadata": {},
   "source": [
    "- **predict_joint_log_proba(X)** \n",
    "\n",
    "n*c array \n",
    "\n",
    "- **predict_log_proba(X)**\n",
    "\n",
    "\n",
    "- **predict_proba(X)**\n",
    "\n"
   ]
  },
  {
   "cell_type": "markdown",
   "id": "4552d1cf-abe8-4359-9d2e-4fe0b4c3be85",
   "metadata": {},
   "source": []
  },
  {
   "cell_type": "code",
   "execution_count": 17,
   "id": "c60d63c4-ef4a-4e39-a1f3-f5e841642aff",
   "metadata": {},
   "outputs": [
    {
     "data": {
      "text/plain": [
       "(75, 4)"
      ]
     },
     "execution_count": 17,
     "metadata": {},
     "output_type": "execute_result"
    }
   ],
   "source": [
    "X_test.shape"
   ]
  },
  {
   "cell_type": "code",
   "execution_count": 18,
   "id": "393c59fd-0c0b-464b-97eb-47f308194cdc",
   "metadata": {
    "tags": []
   },
   "outputs": [
    {
     "data": {
      "text/plain": [
       "(75, 3)"
      ]
     },
     "execution_count": 18,
     "metadata": {},
     "output_type": "execute_result"
    }
   ],
   "source": [
    "classifier.predict_joint_log_proba(X_test).shape"
   ]
  },
  {
   "cell_type": "code",
   "execution_count": 20,
   "id": "5f1a29a3-5be0-4d09-9df5-39892c05d1b6",
   "metadata": {
    "tags": []
   },
   "outputs": [
    {
     "data": {
      "text/plain": [
       "array([[-2.43167720e+02, -3.97918268e+00, -2.39083534e+01],\n",
       "       [-2.69379888e+00, -4.34603727e+01, -7.78785652e+01],\n",
       "       [-8.92749339e+02, -1.66887959e+01, -3.56188002e+00],\n",
       "       [ 1.29705871e+00, -3.32067369e+01, -7.28949619e+01],\n",
       "       [-9.46084853e+02, -2.58208089e+01, -3.75647926e+00],\n",
       "       [ 4.51887240e-01, -3.39987306e+01, -7.21168744e+01],\n",
       "       [-4.32323735e+02, -4.37031838e+00, -7.11740700e+00],\n",
       "       [-4.40881603e+02, -3.71506284e+00, -8.59738466e+00],\n",
       "       [-2.72749724e+02, -1.52589200e+00, -1.41876209e+01]])"
      ]
     },
     "execution_count": 20,
     "metadata": {},
     "output_type": "execute_result"
    }
   ],
   "source": [
    "classifier.predict_joint_log_proba(X_test)[1:10]"
   ]
  },
  {
   "cell_type": "code",
   "execution_count": 21,
   "id": "61b90d4b-6c27-4567-bfad-d1458325b681",
   "metadata": {
    "tags": []
   },
   "outputs": [
    {
     "data": {
      "text/plain": [
       "array([[-2.39188537e+02, -2.21243779e-09, -1.99291707e+01],\n",
       "       [ 0.00000000e+00, -4.07665738e+01, -7.51847663e+01],\n",
       "       [-8.89187461e+02, -1.31269179e+01, -1.99091363e-06],\n",
       "       [-1.11022302e-15, -3.45037956e+01, -7.41920206e+01],\n",
       "       [-9.42328374e+02, -2.20643297e+01, -2.61567212e-10],\n",
       "       [-1.11022302e-15, -3.44506178e+01, -7.25687616e+01],\n",
       "       [-4.28015560e+02, -6.21427637e-02, -2.80923138e+00],\n",
       "       [-4.37174091e+02, -7.55081626e-03, -4.88987264e+00],\n",
       "       [-2.71223835e+02, -3.17015366e-06, -1.26617321e+01]])"
      ]
     },
     "execution_count": 21,
     "metadata": {},
     "output_type": "execute_result"
    }
   ],
   "source": [
    "classifier.predict_log_proba(X_test)[1:10]"
   ]
  },
  {
   "cell_type": "code",
   "execution_count": 22,
   "id": "480043d0-cbee-4b3c-a065-ccb8556a484c",
   "metadata": {
    "tags": []
   },
   "outputs": [
    {
     "data": {
      "text/plain": [
       "array([[1.32354372e-104, 9.99999998e-001, 2.21243804e-009],\n",
       "       [1.00000000e+000, 1.97379457e-018, 2.22674692e-033],\n",
       "       [0.00000000e+000, 1.99091165e-006, 9.99998009e-001],\n",
       "       [1.00000000e+000, 1.03559983e-015, 6.00917501e-033],\n",
       "       [0.00000000e+000, 2.61567260e-010, 1.00000000e+000],\n",
       "       [1.00000000e+000, 1.09216133e-015, 3.04640240e-032],\n",
       "       [1.30377984e-186, 9.39748715e-001, 6.02512848e-002],\n",
       "       [1.37310821e-190, 9.92477620e-001, 7.52238046e-003],\n",
       "       [1.61802403e-118, 9.99996830e-001, 3.17014863e-006]])"
      ]
     },
     "execution_count": 22,
     "metadata": {},
     "output_type": "execute_result"
    }
   ],
   "source": [
    "classifier.predict_proba(X_test)[1:10]"
   ]
  },
  {
   "cell_type": "markdown",
   "id": "826cd797",
   "metadata": {},
   "source": [
    "\n",
    "In scikit-learn, these methods are often associated with classifiers for making predictions. Here's what each of these methods does:\n",
    "\n",
    "- **predict_joint_log_proba(X):** This method computes the logarithm of the joint probability density function for the samples in X. The joint probability density function is the probability that a sample belongs to each class, taking into account the correlation between classes.\n",
    "\n",
    "- **predict_log_proba(X):** This method computes the logarithm of the probability estimates for each class for all samples in X. It returns an array where each row corresponds to a sample, and each column corresponds to a class, containing the logarithm of the probability of each class for each sample.\n",
    "\n",
    "- **predict_proba(X):** This method computes the probability estimates for each class for all samples in X. It returns an array where each row corresponds to a sample, and each column corresponds to a class, containing the probability of each class for each sample."
   ]
  },
  {
   "cell_type": "markdown",
   "id": "3ca73c97",
   "metadata": {},
   "source": [
    "**predict_joint_log_proba(X_test):**\n",
    "\n",
    "This method computes the logarithm of the joint probability density function for the samples in `X_test`.\n",
    "The joint probability density function represents the probability that a sample belongs to each class, taking into account the correlation between classes.\n",
    "`joint_log_proba` will be a 2D array where each row corresponds to a sample and each column corresponds to a class, containing the logarithm of the joint probability of each class for each sample.\n",
    "\n",
    "**predict_log_proba(X_test):**\n",
    "\n",
    "This method computes the logarithm of the probability estimates for each class for all samples in `X_test`.\n",
    "`log_proba` will be a 2D array where each row corresponds to a sample and each column corresponds to a class, containing the logarithm of the probability of each class for each sample.\n",
    "\n",
    "**predict_proba(X_test):**\n",
    "\n",
    "This method computes the probability estimates for each class for all samples in `X_test`.\n",
    "`proba` will be a 2D array where each row corresponds to a sample and each column corresponds to a class, containing the probability of each class for each sample.\n",
    "\n",
    "These methods are useful for understanding the model's confidence in its predictions and for further analysis of the model's behavior.\n"
   ]
  },
  {
   "cell_type": "markdown",
   "id": "2f288f19",
   "metadata": {},
   "source": [
    "### Explanation of Using Logarithms for Probabilities in Machine Learning\n",
    "\n",
    "Using logarithms when dealing with probabilities, especially in machine learning models like Naive Bayes, offers several advantages:\n",
    "\n",
    "1. **Numerical Stability**: Multiplying small probabilities together can lead to numerical underflow issues. Taking the logarithm of probabilities helps avoid this problem by transforming multiplication into addition, which is more numerically stable.\n",
    "\n",
    "2. **Computational Efficiency**: Computing the logarithm of probabilities can be computationally more efficient, especially with large datasets or models with many parameters.\n",
    "\n",
    "3. **Interpretability**: Logarithms make it easier to interpret the relative magnitudes of probabilities. Small probabilities have large negative logarithms, while probabilities close to one have logarithms close to zero, facilitating easier comparison of likelihoods.\n",
    "\n",
    "4. **Prediction**: Logarithmizing probabilities doesn't alter the model's predictive capabilities. The relative ordering of probabilities remains the same, allowing for stable and efficient prediction. \n",
    "\n",
    "In summary, using logarithms of probabilities instead of directly computing probabilities enhances numerical stability, computational efficiency, and interpretability in machine learning models without affecting their predictive performance.\n"
   ]
  },
  {
   "cell_type": "markdown",
   "id": "3824b6e1-8179-489b-8e27-1b8367bf1ac6",
   "metadata": {},
   "source": [
    "**Q3bis** : Have a look at some basic implementation of the Naive Bayes algorithm \n",
    "\n",
    "https://www.python-engineer.com/courses/mlfromscratch/05_naivebayes/\n",
    "\n",
    "(a) Complete the code in order to compute the posterior membership probabilities (and not only the class with the highest posterior probability)\n",
    "\n",
    "(b) Also consider directly compute the log of the pdf rather than the pdf for numerical stability\n",
    "\n",
    "(c) What modification should you consider to consider categorical features?\n",
    "\n",
    "(d) Give some ideas of how it would be possible to consider mixed type of data. "
   ]
  },
  {
   "cell_type": "code",
   "execution_count": 117,
   "id": "2608aad0-a056-4e6a-a29b-a6f0dfe380df",
   "metadata": {
    "tags": []
   },
   "outputs": [],
   "source": [
    "# import numpy as np\n",
    "\n",
    "# class NaiveBayes:\n",
    "\n",
    "#     def fit(self, X, y):\n",
    "#         n_samples, n_features = X.shape\n",
    "#         self._classes = np.unique(y)\n",
    "#         n_classes = len(self._classes)\n",
    "\n",
    "#         # calculate mean, var, and prior for each class\n",
    "#         self._mean = np.zeros((n_classes, n_features), dtype=np.float64)\n",
    "#         self._var = np.zeros((n_classes, n_features), dtype=np.float64)\n",
    "#         self._priors =  np.zeros(n_classes, dtype=np.float64)\n",
    "\n",
    "#         for idx, c in enumerate(self._classes):\n",
    "#             X_c = X[y==c]\n",
    "#             self._mean[idx, :] = X_c.mean(axis=0)\n",
    "#             self._var[idx, :] = X_c.var(axis=0)\n",
    "#             self._priors[idx] = X_c.shape[0] / float(n_samples)\n",
    "\n",
    "#     def predict(self, X):\n",
    "#         y_pred = [self._predict(x) for x in X]\n",
    "#         return np.array(y_pred)\n",
    "\n",
    "#     def _predict(self, x):\n",
    "#         posteriors = []\n",
    "\n",
    "#         # calculate posterior probability for each class\n",
    "#         for idx, c in enumerate(self._classes):\n",
    "#             prior = np.log(self._priors[idx])\n",
    "#             posterior = np.sum(np.log(self._pdf(idx, x)))\n",
    "#             posterior = prior + posterior\n",
    "#             posteriors.append(posterior)\n",
    "\n",
    "#         # return class with highest posterior probability\n",
    "#         return self._classes[np.argmax(posteriors)]\n",
    "\n",
    "\n",
    "#     def _pdf(self, class_idx, x):\n",
    "#         mean = self._mean[class_idx]\n",
    "#         var = self._var[class_idx]\n",
    "#         numerator = np.exp(- (x-mean)**2 / (2 * var))\n",
    "#         denominator = np.sqrt(2 * np.pi * var)\n",
    "#         return numerator / denominator"
   ]
  },
  {
   "cell_type": "code",
   "execution_count": null,
   "id": "2bb96ee7-7ef5-4e24-93b2-c9e6226354f9",
   "metadata": {},
   "outputs": [],
   "source": []
  },
  {
   "cell_type": "code",
   "execution_count": null,
   "id": "9d0c1f6c-0388-43b8-956b-6450c8052dc2",
   "metadata": {},
   "outputs": [],
   "source": []
  },
  {
   "cell_type": "code",
   "execution_count": 118,
   "id": "bafaf5b3-01b8-4370-895e-af6141e3d48e",
   "metadata": {
    "tags": []
   },
   "outputs": [],
   "source": [
    "# (b) Also consider directly compute the log of the pdf rather than the pdf for numerical stability\n",
    "\n",
    "# (c) What modification should you consider to consider categorical features?\n",
    "\n",
    "# (d) Give some ideas of how it would be possible to consider mixed type of data.\n"
   ]
  },
  {
   "cell_type": "markdown",
   "id": "e020689f",
   "metadata": {},
   "source": [
    "-To consider categorical features in the Naive Bayes classifier, you need to modify the **_pdf** method to handle categorical features appropriately. Currently, the _pdf method assumes Gaussian distributions for continuous features. **For categorical features, you can calculate probabilities directly based on the counts of each category within each class.**\n",
    "\n",
    "-\n",
    "- This modification checks if any of the features in x are categorical. If there are categorical features, it calculates the probability of each category within the class directly based on counts. Otherwise, it uses the Gaussian PDF calculation for continuous features.\n",
    "\n",
    "- \n",
    "\n",
    "- For mixed types of data (i.e., a combination of categorical and continuous features), you would need to preprocess the data accordingly. One common approach is to use one-hot encoding for categorical features and leave continuous features as they are. After preprocessing, you can use the modified Naive Bayes classifier to handle both types of features appropriately. Additionally, you might consider using different types of Naive Bayes variants (e.g., GaussianNB for continuous features, CategoricalNB for categorical features) and combining their predictions through techniques like stacking or voting."
   ]
  },
  {
   "cell_type": "code",
   "execution_count": null,
   "id": "18311926-b910-4faa-8570-c169ada6612e",
   "metadata": {},
   "outputs": [],
   "source": []
  },
  {
   "cell_type": "markdown",
   "id": "d8612594-df92-46f3-9dab-0c32bcd2d9fb",
   "metadata": {},
   "source": [
    "## Categorical features"
   ]
  },
  {
   "cell_type": "markdown",
   "id": "b4e7066a-8cfc-49c0-860a-e3ffeb408543",
   "metadata": {},
   "source": [
    "**Q4**: Use `KBinsDiscretizer` of `sklearn.preprocessing` in order to discrtize the iris data with `n_bins=2`, then train a naive bayes classifier in this discretized dataset"
   ]
  },
  {
   "cell_type": "code",
   "execution_count": 24,
   "id": "ca97dc9a-0596-4fa0-b4b9-646aa345103a",
   "metadata": {
    "tags": []
   },
   "outputs": [],
   "source": [
    "from sklearn.preprocessing import KBinsDiscretizer"
   ]
  },
  {
   "cell_type": "code",
   "execution_count": 25,
   "id": "c0d493e8-c269-43c3-ac85-2866f4636af0",
   "metadata": {
    "tags": []
   },
   "outputs": [],
   "source": [
    "#  to discritise the data we are using KBinsDiscretizer \n",
    "est = KBinsDiscretizer(n_bins=3, encode='ordinal', strategy='uniform', subsample=None)"
   ]
  },
  {
   "cell_type": "markdown",
   "id": "43975a05",
   "metadata": {},
   "source": [
    "### KBinsDiscretizer for Discretizing Continuous Features\n",
    "\n",
    "KBinsDiscretizer from sklearn.preprocessing is used to discretize continuous features into discrete bins. It divides each feature into equally spaced bins (or intervals) and represents the values within each bin with a single value (e.g., the mean, median, or bin edge).\n",
    "\n",
    "#### Key Parameters:\n",
    "\n",
    "- **n_bins**: The number of bins to discretize each feature into.\n",
    "- **encode**: Specifies how to encode the discretized bins. Possible values are 'onehot', 'onehot-dense', and 'ordinal'.\n",
    "- **strategy**: The strategy used to define the widths of the bins. Possible values are 'uniform', 'quantile', and 'kmeans'.\n",
    "\n",
    "#### Bin Definition Strategies:\n",
    "\n",
    "1. **Equal Width Binning ('uniform')**: Divides the range of each feature into n_bins equally spaced intervals.\n",
    "\n",
    "2. **Equal Frequency Binning ('quantile')**: Divides the range of each feature into n_bins intervals, each containing approximately the same number of samples.\n",
    "\n",
    "3. **K-Means Binning ('kmeans')**: Uses the k-means algorithm to find n_bins cluster centers for each feature and then uses these centers to define the intervals.\n",
    "\n",
    "#### Encoding:\n",
    "\n",
    "After discretizing the features, KBinsDiscretizer can encode the bins in different ways:\n",
    "\n",
    "- **'onehot'**: Encode the bins using one-hot encoding.\n",
    "- **'onehot-dense'**: Encode the bins using one-hot encoding and return a dense array.\n",
    "- **'ordinal'**: Encode the bins as integers (0 to n_bins - 1).\n",
    "\n",
    "Overall, KBinsDiscretizer is useful for preprocessing continuous features before feeding them into machine learning models that may perform better with discrete features or when you want to simplify the representation of the data.\n"
   ]
  },
  {
   "cell_type": "markdown",
   "id": "acc575ae",
   "metadata": {},
   "source": [
    "- it discretizes the features into 3 bins per feature using KBinsDiscretizer"
   ]
  },
  {
   "cell_type": "markdown",
   "id": "bb503b9d-2c6b-481d-8676-9e38699eb9c1",
   "metadata": {},
   "source": [
    "**Q5**: Idem but with `n_bins = 3`"
   ]
  },
  {
   "cell_type": "code",
   "execution_count": 26,
   "id": "ed2786fc-4089-476d-ad5b-68b73dab8910",
   "metadata": {
    "tags": []
   },
   "outputs": [],
   "source": [
    "X_train1=est.fit_transform(X_train)"
   ]
  },
  {
   "cell_type": "code",
   "execution_count": 27,
   "id": "ef30a013-f35b-4bab-aeb8-3ed894d170fd",
   "metadata": {
    "tags": []
   },
   "outputs": [],
   "source": [
    "X_test1 = est.transform(X_test)"
   ]
  },
  {
   "cell_type": "code",
   "execution_count": 31,
   "id": "2942ffc0",
   "metadata": {},
   "outputs": [],
   "source": [
    "# X_test"
   ]
  },
  {
   "cell_type": "code",
   "execution_count": 32,
   "id": "88ee8ea9",
   "metadata": {},
   "outputs": [],
   "source": [
    "# X_test1"
   ]
  },
  {
   "cell_type": "code",
   "execution_count": 33,
   "id": "a631b9f8-1e61-4481-ad7e-bd18ec41861f",
   "metadata": {
    "tags": []
   },
   "outputs": [],
   "source": [
    "from sklearn.naive_bayes import CategoricalNB\n",
    "classifier1 = CategoricalNB()\n",
    "classifier1.fit(X_train1, y_train)\n",
    "y_pred = classifier1.predict(X_test1)\n"
   ]
  },
  {
   "cell_type": "code",
   "execution_count": 34,
   "id": "0aea825c-3cb3-4f4d-b14c-4184afb207e6",
   "metadata": {
    "tags": []
   },
   "outputs": [
    {
     "name": "stdout",
     "output_type": "stream",
     "text": [
      "Accuracy: 0.9066666666666666\n"
     ]
    }
   ],
   "source": [
    "accuracy = classifier1.score(X_test1, y_test)\n",
    "print(\"Accuracy:\", accuracy)"
   ]
  },
  {
   "cell_type": "code",
   "execution_count": 35,
   "id": "f65f9e03-fdc3-48b0-b827-487b834f0dfb",
   "metadata": {
    "tags": []
   },
   "outputs": [
    {
     "data": {
      "text/plain": [
       "[array([[-0.09844007, -2.77258872, -3.4657359 ],\n",
       "        [-1.5260563 , -0.30228087, -3.13549422],\n",
       "        [-3.36729583, -0.65924563, -0.80234647]]),\n",
       " array([[-2.77258872, -0.52129692, -1.06784063],\n",
       "        [-0.57054486, -0.93826964, -3.13549422],\n",
       "        [-1.42138568, -0.47692407, -1.98100147]]),\n",
       " array([[-0.06453852, -3.4657359 , -3.4657359 ],\n",
       "        [-2.44234704, -0.19105524, -2.44234704],\n",
       "        [-3.36729583, -2.67414865, -0.10919929]]),\n",
       " array([[-0.06453852, -3.4657359 , -3.4657359 ],\n",
       "        [-3.13549422, -0.13976194, -2.44234704],\n",
       "        [-3.36729583, -2.67414865, -0.10919929]])]"
      ]
     },
     "execution_count": 35,
     "metadata": {},
     "output_type": "execute_result"
    }
   ],
   "source": [
    "classifier1.feature_log_prob_"
   ]
  },
  {
   "cell_type": "markdown",
   "id": "2699efc5",
   "metadata": {},
   "source": [
    "### Interpretation of feature_log_prob_ Attribute in Naive Bayes Classifiers\n",
    "\n",
    "The `feature_log_prob_` attribute in scikit-learn's Naive Bayes classifiers contains the logarithm of the probabilities of features given a class. It represents the log likelihood of each feature given each class, which is computed during the training of the classifier.\n",
    "\n",
    "#### Interpretation for Multinomial Naive Bayes Classifier:\n",
    "\n",
    "For a Multinomial Naive Bayes classifier, `feature_log_prob_` contains the logarithm of the probabilities of each feature occurring in each class. Each row corresponds to a class, and each column corresponds to a feature. So, `feature_log_prob_[i, j]` represents the logarithm of the probability of feature j occurring in class i.\n",
    "\n",
    "#### Interpretation for Gaussian Naive Bayes Classifier:\n",
    "\n",
    "For a Gaussian Naive Bayes classifier, `feature_log_prob_` contains the logarithm of the probability density function (PDF) of each feature given each class. Again, each row corresponds to a class, and each column corresponds to a feature. So, `feature_log_prob_[i, j]` represents the logarithm of the PDF of feature j in class i.\n",
    "\n",
    "Overall, `feature_log_prob_` provides valuable information about the likelihood of each feature given each class, which is essential for making predictions in Naive Bayes classifiers.\n"
   ]
  },
  {
   "cell_type": "markdown",
   "id": "6f103385-22fc-4b69-ac8f-ee77fa9ffe6e",
   "metadata": {},
   "source": [
    "**Q6**: Compare the performances of the different approches"
   ]
  },
  {
   "cell_type": "code",
   "execution_count": null,
   "id": "33e2ca73-951e-4202-8f84-6df608cc0361",
   "metadata": {},
   "outputs": [],
   "source": []
  },
  {
   "cell_type": "code",
   "execution_count": null,
   "id": "cdffec52-89c5-4bd0-948f-baf6fa272569",
   "metadata": {},
   "outputs": [],
   "source": []
  },
  {
   "cell_type": "code",
   "execution_count": 91,
   "id": "bb91843c-4d08-4b8f-82ee-11aa584e37c4",
   "metadata": {
    "tags": []
   },
   "outputs": [],
   "source": [
    "from sklearn.naive_bayes import BernoulliNB\n",
    "classifier2 = BernoulliNB()\n",
    "classifier2.fit(X_train1, y_train)\n",
    "y_pred = classifier1.predict(X_test1)\n"
   ]
  },
  {
   "cell_type": "code",
   "execution_count": 100,
   "id": "282aa582-ec9a-449b-ab96-b96e9ddd2df4",
   "metadata": {
    "scrolled": true,
    "tags": []
   },
   "outputs": [
    {
     "data": {
      "text/plain": [
       "array([[ 6., 28.,  0.,  0.],\n",
       "       [18., 13., 20., 20.],\n",
       "       [26., 25., 26., 26.]])"
      ]
     },
     "execution_count": 100,
     "metadata": {},
     "output_type": "execute_result"
    }
   ],
   "source": [
    "classifier2.feature_count_"
   ]
  },
  {
   "cell_type": "markdown",
   "id": "f73ce48a",
   "metadata": {},
   "source": [
    "- The **feature_count_** attribute in scikit-learn's Naive Bayes classifiers represents the count of each feature in each class. It is computed during the training of the classifier and is used to calculate the probabilities of features given a class."
   ]
  },
  {
   "cell_type": "code",
   "execution_count": 92,
   "id": "6e9dde76-3ed8-4b34-b471-0d22b2c0cf11",
   "metadata": {
    "tags": []
   },
   "outputs": [
    {
     "name": "stdout",
     "output_type": "stream",
     "text": [
      "Accuracy: 0.9466666666666667\n"
     ]
    }
   ],
   "source": [
    "accuracy2 = classifier2.score(X_test1, y_test)\n",
    "print(\"Accuracy:\", accuracy)"
   ]
  },
  {
   "cell_type": "markdown",
   "id": "1b57b3e2-d5ee-4999-9153-a719af33a59c",
   "metadata": {},
   "source": [
    "## Application on the MNIST dataset"
   ]
  },
  {
   "cell_type": "markdown",
   "id": "6dc362d6-b032-48ca-9d81-4e9532f6d666",
   "metadata": {},
   "source": [
    "**Q7**: Apply the Naive Bayes classifier on the MNIST dataset and comment its performances"
   ]
  },
  {
   "cell_type": "code",
   "execution_count": 98,
   "id": "5e1a0dad-a9b3-4b6e-9a9e-54e29516d00b",
   "metadata": {
    "tags": []
   },
   "outputs": [
    {
     "name": "stdout",
     "output_type": "stream",
     "text": [
      "(1797, 64)\n"
     ]
    },
    {
     "data": {
      "text/plain": [
       "<Figure size 640x480 with 0 Axes>"
      ]
     },
     "metadata": {},
     "output_type": "display_data"
    },
    {
     "data": {
      "image/png": "[encoded data removed]",
      "text/plain": [
       "<Figure size 480x480 with 1 Axes>"
      ]
     },
     "metadata": {},
     "output_type": "display_data"
    }
   ],
   "source": [
    "from sklearn.datasets import load_digits\n",
    "digits = load_digits()\n",
    "print(digits.data.shape)\n",
    "import matplotlib.pyplot as plt\n",
    "plt.gray()\n",
    "plt.matshow(digits.images[0])\n",
    "plt.show()"
   ]
  },
  {
   "cell_type": "code",
   "execution_count": 126,
   "id": "46806e1d-6cfd-4f40-9e20-e73c172aa8c0",
   "metadata": {
    "tags": []
   },
   "outputs": [
    {
     "data": {
      "text/plain": [
       "{'data': array([[ 0.,  0.,  5., ...,  0.,  0.,  0.],\n",
       "        [ 0.,  0.,  0., ..., 10.,  0.,  0.],\n",
       "        [ 0.,  0.,  0., ..., 16.,  9.,  0.],\n",
       "        ...,\n",
       "        [ 0.,  0.,  1., ...,  6.,  0.,  0.],\n",
       "        [ 0.,  0.,  2., ..., 12.,  0.,  0.],\n",
       "        [ 0.,  0., 10., ..., 12.,  1.,  0.]]),\n",
       " 'target': array([0, 1, 2, ..., 8, 9, 8]),\n",
       " 'frame': None,\n",
       " 'feature_names': ['pixel_0_0',\n",
       "  'pixel_0_1',\n",
       "  'pixel_0_2',\n",
       "  'pixel_0_3',\n",
       "  'pixel_0_4',\n",
       "  'pixel_0_5',\n",
       "  'pixel_0_6',\n",
       "  'pixel_0_7',\n",
       "  'pixel_1_0',\n",
       "  'pixel_1_1',\n",
       "  'pixel_1_2',\n",
       "  'pixel_1_3',\n",
       "  'pixel_1_4',\n",
       "  'pixel_1_5',\n",
       "  'pixel_1_6',\n",
       "  'pixel_1_7',\n",
       "  'pixel_2_0',\n",
       "  'pixel_2_1',\n",
       "  'pixel_2_2',\n",
       "  'pixel_2_3',\n",
       "  'pixel_2_4',\n",
       "  'pixel_2_5',\n",
       "  'pixel_2_6',\n",
       "  'pixel_2_7',\n",
       "  'pixel_3_0',\n",
       "  'pixel_3_1',\n",
       "  'pixel_3_2',\n",
       "  'pixel_3_3',\n",
       "  'pixel_3_4',\n",
       "  'pixel_3_5',\n",
       "  'pixel_3_6',\n",
       "  'pixel_3_7',\n",
       "  'pixel_4_0',\n",
       "  'pixel_4_1',\n",
       "  'pixel_4_2',\n",
       "  'pixel_4_3',\n",
       "  'pixel_4_4',\n",
       "  'pixel_4_5',\n",
       "  'pixel_4_6',\n",
       "  'pixel_4_7',\n",
       "  'pixel_5_0',\n",
       "  'pixel_5_1',\n",
       "  'pixel_5_2',\n",
       "  'pixel_5_3',\n",
       "  'pixel_5_4',\n",
       "  'pixel_5_5',\n",
       "  'pixel_5_6',\n",
       "  'pixel_5_7',\n",
       "  'pixel_6_0',\n",
       "  'pixel_6_1',\n",
       "  'pixel_6_2',\n",
       "  'pixel_6_3',\n",
       "  'pixel_6_4',\n",
       "  'pixel_6_5',\n",
       "  'pixel_6_6',\n",
       "  'pixel_6_7',\n",
       "  'pixel_7_0',\n",
       "  'pixel_7_1',\n",
       "  'pixel_7_2',\n",
       "  'pixel_7_3',\n",
       "  'pixel_7_4',\n",
       "  'pixel_7_5',\n",
       "  'pixel_7_6',\n",
       "  'pixel_7_7'],\n",
       " 'target_names': array([0, 1, 2, 3, 4, 5, 6, 7, 8, 9]),\n",
       " 'images': array([[[ 0.,  0.,  5., ...,  1.,  0.,  0.],\n",
       "         [ 0.,  0., 13., ..., 15.,  5.,  0.],\n",
       "         [ 0.,  3., 15., ..., 11.,  8.,  0.],\n",
       "         ...,\n",
       "         [ 0.,  4., 11., ..., 12.,  7.,  0.],\n",
       "         [ 0.,  2., 14., ..., 12.,  0.,  0.],\n",
       "         [ 0.,  0.,  6., ...,  0.,  0.,  0.]],\n",
       " \n",
       "        [[ 0.,  0.,  0., ...,  5.,  0.,  0.],\n",
       "         [ 0.,  0.,  0., ...,  9.,  0.,  0.],\n",
       "         [ 0.,  0.,  3., ...,  6.,  0.,  0.],\n",
       "         ...,\n",
       "         [ 0.,  0.,  1., ...,  6.,  0.,  0.],\n",
       "         [ 0.,  0.,  1., ...,  6.,  0.,  0.],\n",
       "         [ 0.,  0.,  0., ..., 10.,  0.,  0.]],\n",
       " \n",
       "        [[ 0.,  0.,  0., ..., 12.,  0.,  0.],\n",
       "         [ 0.,  0.,  3., ..., 14.,  0.,  0.],\n",
       "         [ 0.,  0.,  8., ..., 16.,  0.,  0.],\n",
       "         ...,\n",
       "         [ 0.,  9., 16., ...,  0.,  0.,  0.],\n",
       "         [ 0.,  3., 13., ..., 11.,  5.,  0.],\n",
       "         [ 0.,  0.,  0., ..., 16.,  9.,  0.]],\n",
       " \n",
       "        ...,\n",
       " \n",
       "        [[ 0.,  0.,  1., ...,  1.,  0.,  0.],\n",
       "         [ 0.,  0., 13., ...,  2.,  1.,  0.],\n",
       "         [ 0.,  0., 16., ..., 16.,  5.,  0.],\n",
       "         ...,\n",
       "         [ 0.,  0., 16., ..., 15.,  0.,  0.],\n",
       "         [ 0.,  0., 15., ..., 16.,  0.,  0.],\n",
       "         [ 0.,  0.,  2., ...,  6.,  0.,  0.]],\n",
       " \n",
       "        [[ 0.,  0.,  2., ...,  0.,  0.,  0.],\n",
       "         [ 0.,  0., 14., ..., 15.,  1.,  0.],\n",
       "         [ 0.,  4., 16., ..., 16.,  7.,  0.],\n",
       "         ...,\n",
       "         [ 0.,  0.,  0., ..., 16.,  2.,  0.],\n",
       "         [ 0.,  0.,  4., ..., 16.,  2.,  0.],\n",
       "         [ 0.,  0.,  5., ..., 12.,  0.,  0.]],\n",
       " \n",
       "        [[ 0.,  0., 10., ...,  1.,  0.,  0.],\n",
       "         [ 0.,  2., 16., ...,  1.,  0.,  0.],\n",
       "         [ 0.,  0., 15., ..., 15.,  0.,  0.],\n",
       "         ...,\n",
       "         [ 0.,  4., 16., ..., 16.,  6.,  0.],\n",
       "         [ 0.,  8., 16., ..., 16.,  8.,  0.],\n",
       "         [ 0.,  1.,  8., ..., 12.,  1.,  0.]]]),\n",
       " 'DESCR': \".. _digits_dataset:\\n\\nOptical recognition of handwritten digits dataset\\n--------------------------------------------------\\n\\n**Data Set Characteristics:**\\n\\n:Number of Instances: 1797\\n:Number of Attributes: 64\\n:Attribute Information: 8x8 image of integer pixels in the range 0..16.\\n:Missing Attribute Values: None\\n:Creator: E. Alpaydin (alpaydin '@' boun.edu.tr)\\n:Date: July; 1998\\n\\nThis is a copy of the test set of the UCI ML hand-written digits datasets\\nhttps://archive.ics.uci.edu/ml/datasets/Optical+Recognition+of+Handwritten+Digits\\n\\nThe data set contains images of hand-written digits: 10 classes where\\neach class refers to a digit.\\n\\nPreprocessing programs made available by NIST were used to extract\\nnormalized bitmaps of handwritten digits from a preprinted form. From a\\ntotal of 43 people, 30 contributed to the training set and different 13\\nto the test set. 32x32 bitmaps are divided into nonoverlapping blocks of\\n4x4 and the number of on pixels are counted in each block. This generates\\nan input matrix of 8x8 where each element is an integer in the range\\n0..16. This reduces dimensionality and gives invariance to small\\ndistortions.\\n\\nFor info on NIST preprocessing routines, see M. D. Garris, J. L. Blue, G.\\nT. Candela, D. L. Dimmick, J. Geist, P. J. Grother, S. A. Janet, and C.\\nL. Wilson, NIST Form-Based Handprint Recognition System, NISTIR 5469,\\n1994.\\n\\n|details-start|\\n**References**\\n|details-split|\\n\\n- C. Kaynak (1995) Methods of Combining Multiple Classifiers and Their\\n  Applications to Handwritten Digit Recognition, MSc Thesis, Institute of\\n  Graduate Studies in Science and Engineering, Bogazici University.\\n- E. Alpaydin, C. Kaynak (1998) Cascading Classifiers, Kybernetika.\\n- Ken Tang and Ponnuthurai N. Suganthan and Xi Yao and A. Kai Qin.\\n  Linear dimensionalityreduction using relevance weighted LDA. School of\\n  Electrical and Electronic Engineering Nanyang Technological University.\\n  2005.\\n- Claudio Gentile. A New Approximate Maximal Margin Classification\\n  Algorithm. NIPS. 2000.\\n\\n|details-end|\\n\"}"
      ]
     },
     "execution_count": 126,
     "metadata": {},
     "output_type": "execute_result"
    }
   ],
   "source": [
    "digits"
   ]
  },
  {
   "cell_type": "markdown",
   "id": "f4517cab-2b5d-413b-9e92-a2854d010e9b",
   "metadata": {},
   "source": [
    "## 2. Linear and quadratic discriminant analysis\n",
    "\n",
    "The model now considered is not the naives Bayes, since it does not any more the assumption of conditional independence. It is however still a generative classifier since it models the distribution of $(x,y)$ then it deduce the distribution of $y|x$ using the Bayes theorem. \n",
    "\n",
    "More information can be found on : \n",
    "\n",
    "https://scikit-learn.org/stable/modules/generated/sklearn.discriminant_analysis.LinearDiscriminantAnalysis.html\n",
    "\n",
    "https://scikit-learn.org/stable/modules/generated/sklearn.discriminant_analysis.QuadraticDiscriminantAnalysis.html\n",
    "\n",
    "The **linear discriminant analysis** assumes multivariate Gaussian distribution in each class, and moreover the covariance matrices are assumed to be the same in each class: \n",
    "$$\n",
    "x | y = k \\sim \\mathcal{N}(\\mu_k , \\Sigma)\n",
    "$$\n",
    "This results in a linear decision boundary. \n",
    "\n",
    "\n",
    "The **quadratic discriminant analysis** assumes multivariate Gaussian distribution in each class, and moreover the covariance matrices are assumed to be the same in each class: \n",
    "$$\n",
    "x | y = k \\sim \\mathcal{N}(\\mu_k , \\Sigma_k).\n",
    "$$\n",
    "This results in a quadratic decision boundary.\n",
    "\n",
    "**Remarks** : \n",
    "\n",
    "- Linear discriminant analysis can also be used for dimension reduction by looking for the most discriminant components (K-1 discriminant components if $K$ classes are considered) \n",
    "- In high dimensional setting the `shrinkage` parameter can be used in order to regularize the estimator of the covariance matrix, for example of the kind $(1-\\alpha)\\hat\\Sigma + \\alpha I$\n",
    "\n"
   ]
  },
  {
   "cell_type": "markdown",
   "id": "df583830-fc15-4a9e-baf7-e96389fadf49",
   "metadata": {},
   "source": [
    "**Q8** : Fit a linear discriminant analysis on the MNIST dataset, try to optimize the value of the shrinkage parameter"
   ]
  },
  {
   "cell_type": "code",
   "execution_count": null,
   "id": "a56e2f88-21c4-49d5-9e61-160d6f8b8500",
   "metadata": {},
   "outputs": [],
   "source": []
  },
  {
   "cell_type": "code",
   "execution_count": null,
   "id": "03cc2a7a-8778-43de-aeaf-4651d18f6e93",
   "metadata": {},
   "outputs": [],
   "source": []
  }
 ],
 "metadata": {
  "kernelspec": {
   "display_name": "Python 3 (ipykernel)",
   "language": "python",
   "name": "python3"
  },
  "language_info": {
   "codemirror_mode": {
    "name": "ipython",
    "version": 3
   },
   "file_extension": ".py",
   "mimetype": "text/x-python",
   "name": "python",
   "nbconvert_exporter": "python",
   "pygments_lexer": "ipython3",
   "version": "3.11.5"
  }
 },
 "nbformat": 4,
 "nbformat_minor": 5
}
